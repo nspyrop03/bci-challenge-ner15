{
 "cells": [
  {
   "cell_type": "code",
   "execution_count": 17,
   "metadata": {},
   "outputs": [],
   "source": [
    "import detection\n",
    "from detection import SubjectData\n",
    "from utils import train_subjects, test_subjects"
   ]
  },
  {
   "cell_type": "code",
   "execution_count": 10,
   "metadata": {},
   "outputs": [
    {
     "data": {
      "text/plain": [
       "<module 'detection' from '/home/nick/bci-challenge-ner15/detection.py'>"
      ]
     },
     "execution_count": 10,
     "metadata": {},
     "output_type": "execute_result"
    }
   ],
   "source": [
    "import importlib\n",
    "importlib.reload(detection)"
   ]
  },
  {
   "cell_type": "code",
   "execution_count": 10,
   "metadata": {},
   "outputs": [],
   "source": [
    "sd = SubjectData(subject_name=train_subjects[2])"
   ]
  },
  {
   "cell_type": "code",
   "execution_count": 4,
   "metadata": {},
   "outputs": [
    {
     "name": "stdout",
     "output_type": "stream",
     "text": [
      "P300 Clusters: [np.int64(47), np.int64(46), np.int64(8), np.int64(52), np.int64(53), np.int64(5), np.int64(29), np.int64(41), np.int64(10), np.int64(50), np.int64(12), np.int64(49), np.int64(16), np.int64(6), np.int64(48), np.int64(3)]\n",
      "Found 118/4742 (2.49%) P300 segments\n",
      "(4742,)\n"
     ]
    }
   ],
   "source": [
    "binary_labels, labels, features_pca = sd.dbscan_features(pca_components=5, eps=0.5, verbose=True)\n",
    "print(binary_labels.shape)"
   ]
  },
  {
   "cell_type": "code",
   "execution_count": 5,
   "metadata": {},
   "outputs": [
    {
     "name": "stdout",
     "output_type": "stream",
     "text": [
      "(118, 64) (340, 80)\n"
     ]
    }
   ],
   "source": [
    "# raw_features(P300) shape: (n_samples, n_features)\n",
    "# n_features: ch1_mean, ch1_peak, ch1_latency, ch1_amplitude, ch2_mean, ..., ch16_amplitude\n",
    "\n",
    "print(sd.raw_features[binary_labels.astype(bool)].shape, sd.errp_features.shape)"
   ]
  },
  {
   "cell_type": "code",
   "execution_count": 14,
   "metadata": {},
   "outputs": [
    {
     "name": "stdout",
     "output_type": "stream",
     "text": [
      "(340, 17)\n"
     ]
    }
   ],
   "source": [
    "feedback_sim = sd.get_feedback_similarity()\n",
    "print(feedback_sim.shape)"
   ]
  },
  {
   "cell_type": "code",
   "execution_count": 15,
   "metadata": {},
   "outputs": [
    {
     "name": "stdout",
     "output_type": "stream",
     "text": [
      "(340, 8)\n"
     ]
    }
   ],
   "source": [
    "green_sim = sd.get_green_similarity()\n",
    "print(green_sim.shape)"
   ]
  },
  {
   "cell_type": "code",
   "execution_count": 16,
   "metadata": {},
   "outputs": [
    {
     "data": {
      "text/plain": [
       "array([0.10878433, 0.1663399 , 0.49239933, 0.20852956, 0.52735763,\n",
       "       0.53395551, 0.41991192, 0.20852956])"
      ]
     },
     "execution_count": 16,
     "metadata": {},
     "output_type": "execute_result"
    }
   ],
   "source": [
    "green_sim[42]"
   ]
  },
  {
   "cell_type": "markdown",
   "metadata": {},
   "source": [
    "Run the below cell to create all the cache of SubjectData"
   ]
  },
  {
   "cell_type": "code",
   "execution_count": 18,
   "metadata": {},
   "outputs": [],
   "source": [
    "for i in range(len(test_subjects)):\n",
    "    sd = SubjectData(test_subjects[i], train=False)\n",
    "    sd.get_feedback_similarity()\n",
    "    sd.get_green_similarity()\n",
    "for i in range(len(train_subjects)):\n",
    "    sd = SubjectData(train_subjects[i], train=True)\n",
    "    sd.get_feedback_similarity()\n",
    "    sd.get_green_similarity()"
   ]
  }
 ],
 "metadata": {
  "kernelspec": {
   "display_name": "bci-env",
   "language": "python",
   "name": "python3"
  },
  "language_info": {
   "codemirror_mode": {
    "name": "ipython",
    "version": 3
   },
   "file_extension": ".py",
   "mimetype": "text/x-python",
   "name": "python",
   "nbconvert_exporter": "python",
   "pygments_lexer": "ipython3",
   "version": "3.13.2"
  }
 },
 "nbformat": 4,
 "nbformat_minor": 2
}
