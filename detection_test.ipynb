{
 "cells": [
  {
   "cell_type": "code",
   "execution_count": 1,
   "metadata": {},
   "outputs": [],
   "source": [
    "from detection import SubjectData\n",
    "from utils import train_subjects"
   ]
  },
  {
   "cell_type": "code",
   "execution_count": 2,
   "metadata": {},
   "outputs": [
    {
     "name": "stdout",
     "output_type": "stream",
     "text": [
      "P300 Clusters: [24, 5, 22, 18, 27, 0, 4, 2, 10]\n",
      "Found 2570/4764 (53.95%) P300 segments\n",
      "(4764,)\n"
     ]
    }
   ],
   "source": [
    "sd = SubjectData(subject_name=train_subjects[1])\n",
    "binary_labels, labels, features_pca = sd.dbscan_features(pca_components=5, eps=0.5, verbose=True)\n",
    "print(binary_labels.shape)"
   ]
  },
  {
   "cell_type": "code",
   "execution_count": null,
   "metadata": {},
   "outputs": [
    {
     "name": "stdout",
     "output_type": "stream",
     "text": [
      "(2570, 64) (340, 80)\n"
     ]
    }
   ],
   "source": [
    "# raw_features(P300) shape: (n_samples, n_features)\n",
    "# n_features: ch1_mean, ch1_peak, ch1_latency, ch1_amplitude, ch2_mean, ..., ch16_amplitude\n",
    "\n",
    "print(sd.raw_features[binary_labels.astype(bool)].shape, sd.errp_features.shape)"
   ]
  }
 ],
 "metadata": {
  "kernelspec": {
   "display_name": "mm_env",
   "language": "python",
   "name": "python3"
  },
  "language_info": {
   "codemirror_mode": {
    "name": "ipython",
    "version": 3
   },
   "file_extension": ".py",
   "mimetype": "text/x-python",
   "name": "python",
   "nbconvert_exporter": "python",
   "pygments_lexer": "ipython3",
   "version": "3.12.3"
  }
 },
 "nbformat": 4,
 "nbformat_minor": 2
}
