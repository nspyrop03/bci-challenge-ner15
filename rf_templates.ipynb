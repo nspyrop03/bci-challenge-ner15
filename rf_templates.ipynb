{
  "cells": [
    {
      "cell_type": "code",
      "execution_count": 1,
      "metadata": {
        "colab": {
          "base_uri": "https://localhost:8080/"
        },
        "id": "AIo9pswom6-h",
        "outputId": "4f6cfd7f-65d9-4672-9c98-f44edcb1a658"
      },
      "outputs": [
        {
          "name": "stdout",
          "output_type": "stream",
          "text": [
            "Mounted at /content/drive\n",
            "/content/drive/.shortcut-targets-by-id/1yOiYN9j4e9ZXxo8tV9x_d9X1dw-lPwat/bci-challenge-ner15\n"
          ]
        }
      ],
      "source": [
        "from google.colab import drive\n",
        "drive.mount('/content/drive')\n",
        "%cd /content/drive/MyDrive/bci-challenge-ner15/"
      ]
    },
    {
      "cell_type": "code",
      "execution_count": 1,
      "metadata": {
        "id": "DipT2Lbyob89"
      },
      "outputs": [],
      "source": [
        "import numpy as np\n",
        "import pandas as pd\n",
        "from sklearn.model_selection import train_test_split, GridSearchCV, StratifiedKFold\n",
        "from sklearn.neural_network import MLPClassifier\n",
        "from sklearn.metrics import roc_curve, auc, make_scorer\n",
        "from imblearn.over_sampling import SMOTE, ADASYN\n",
        "import matplotlib.pyplot as plt\n",
        "from detection import SubjectData\n",
        "from utils import train_subjects, test_subjects\n",
        "import seaborn as sns\n",
        "from sklearn.ensemble import RandomForestClassifier"
      ]
    },
    {
      "cell_type": "code",
      "execution_count": 2,
      "metadata": {
        "id": "qrLgtksaoglW"
      },
      "outputs": [],
      "source": [
        "RAND_STATE = 42"
      ]
    },
    {
      "cell_type": "code",
      "execution_count": 3,
      "metadata": {
        "colab": {
          "base_uri": "https://localhost:8080/"
        },
        "id": "f381eHEBoldE",
        "outputId": "41c8a1d5-a0d6-4377-d2d4-cddbb32a299f"
      },
      "outputs": [
        {
          "name": "stdout",
          "output_type": "stream",
          "text": [
            "(5440,)\n"
          ]
        }
      ],
      "source": [
        "labels = pd.read_csv('./data/TrainLabels.csv')\n",
        "y = labels['Prediction'].to_numpy()\n",
        "print(y.shape)"
      ]
    },
    {
      "cell_type": "code",
      "execution_count": 4,
      "metadata": {
        "colab": {
          "base_uri": "https://localhost:8080/"
        },
        "id": "j_KXdWPwooK8",
        "outputId": "6f9ee51a-4d90-4e8f-f1f0-f803722f95ae"
      },
      "outputs": [
        {
          "name": "stdout",
          "output_type": "stream",
          "text": [
            "(5440, 26)\n"
          ]
        }
      ],
      "source": [
        "X = []\n",
        "for subject in train_subjects:\n",
        "  sd = SubjectData(subject, train=True)\n",
        "  X.append(np.hstack((sd.is_short.reshape(-1, 1), sd.get_green_similarity(), sd.get_feedback_similarity())))\n",
        "X = np.vstack(X)\n",
        "print(X.shape)"
      ]
    },
    {
      "cell_type": "code",
      "execution_count": 5,
      "metadata": {
        "colab": {
          "base_uri": "https://localhost:8080/"
        },
        "id": "tHjWEf4nVYIc",
        "outputId": "eb32605f-29b3-45d6-a3ea-90fce8baa4f1"
      },
      "outputs": [
        {
          "name": "stdout",
          "output_type": "stream",
          "text": [
            "test_set: (3400, 26)\n"
          ]
        }
      ],
      "source": [
        "test_set = []\n",
        "for i in range(len(test_subjects)):\n",
        "    sd = SubjectData(test_subjects[i], train=False)\n",
        "    test_set.append(np.hstack((sd.is_short.reshape(-1, 1), sd.get_green_similarity(), sd.get_feedback_similarity())))\n",
        "\n",
        "test_set = np.vstack(test_set)\n",
        "print(f'test_set: {test_set.shape}')"
      ]
    },
    {
      "cell_type": "code",
      "execution_count": 6,
      "metadata": {
        "id": "BKq6zNIno0Ul"
      },
      "outputs": [],
      "source": [
        "def get_session_and_trial(verbose=False):\n",
        "    features = []\n",
        "    for i in range(1, 5):\n",
        "        for j in range(1, 61):\n",
        "            features.append([i, j])\n",
        "    for j in range(1, 101):\n",
        "        features.append([5, j])\n",
        "    features = np.array(features)\n",
        "    if verbose: print(f'session_and_trial: {features.shape}')\n",
        "    return features\n",
        "\n",
        "def transform_data(X, verbose=False):\n",
        "  extra_features = get_session_and_trial(verbose=verbose)\n",
        "  extra_cols = []\n",
        "  for i in range(X.shape[0] // extra_features.shape[0]):\n",
        "    extra_cols.append(extra_features)\n",
        "  extra_cols = np.array(extra_cols)\n",
        "  extra_cols = extra_cols.reshape(extra_cols.shape[0] * extra_cols.shape[1], extra_cols.shape[2])\n",
        "  if verbose: print(f'extra_cols: {extra_cols.shape}')\n",
        "  final_X = np.hstack((extra_cols, X))\n",
        "  return final_X"
      ]
    },
    {
      "cell_type": "code",
      "execution_count": 7,
      "metadata": {},
      "outputs": [
        {
          "name": "stdout",
          "output_type": "stream",
          "text": [
            "session_and_trial: (340, 2)\n",
            "extra_cols: (3400, 2)\n"
          ]
        }
      ],
      "source": [
        "test_X = transform_data(test_set, verbose=True)"
      ]
    },
    {
      "cell_type": "code",
      "execution_count": 8,
      "metadata": {
        "colab": {
          "base_uri": "https://localhost:8080/"
        },
        "id": "z0DO9G0jo1I3",
        "outputId": "35ed4c3a-0b27-46d8-c411-1043807028c9"
      },
      "outputs": [
        {
          "name": "stdout",
          "output_type": "stream",
          "text": [
            "session_and_trial: (340, 2)\n",
            "extra_cols: (5440, 2)\n",
            "(5440, 28)\n"
          ]
        }
      ],
      "source": [
        "final_X = transform_data(X, verbose=True)\n",
        "print(final_X.shape)"
      ]
    },
    {
      "cell_type": "code",
      "execution_count": 11,
      "metadata": {
        "colab": {
          "base_uri": "https://localhost:8080/",
          "height": 853
        },
        "id": "1JNOCpqFpWhm",
        "outputId": "ec95afd5-f465-4b0b-c6a2-b930419d90e9"
      },
      "outputs": [
        {
          "data": {
            "image/png": "[encoded data removed]",
            "text/plain": [
              "<Figure size 1200x1000 with 2 Axes>"
            ]
          },
          "metadata": {},
          "output_type": "display_data"
        }
      ],
      "source": [
        "data_corr = pd.DataFrame(final_X)\n",
        "corr_matrix = data_corr.corr()\n",
        "plt.figure(figsize=(12, 10))\n",
        "sns.heatmap(corr_matrix, annot=False, fmt=\".2f\", cmap='coolwarm', cbar=True)\n",
        "plt.title('Correlation Matrix of ERPP Features')\n",
        "plt.show()"
      ]
    },
    {
      "cell_type": "code",
      "execution_count": 9,
      "metadata": {
        "colab": {
          "base_uri": "https://localhost:8080/"
        },
        "id": "aSvrgfz4rKQX",
        "outputId": "341bfdc0-a7ab-429f-d252-5e4503a92708"
      },
      "outputs": [
        {
          "name": "stdout",
          "output_type": "stream",
          "text": [
            "Συσχέτιση 6 με 10: 1.00 -> Αφαίρεση 10\n",
            "Συσχέτιση 7 με 8: 1.00 -> Αφαίρεση 8\n",
            "Συσχέτιση 14 με 18: 1.00 -> Αφαίρεση 18\n",
            "Συσχέτιση 15 με 16: 1.00 -> Αφαίρεση 16\n",
            "Συσχέτιση 22 με 26: 1.00 -> Αφαίρεση 26\n",
            "Συσχέτιση 23 με 24: 1.00 -> Αφαίρεση 24\n",
            "Συσχέτιση 6 με 10: 1.00 -> Αφαίρεση 10\n",
            "Συσχέτιση 7 με 8: 1.00 -> Αφαίρεση 8\n",
            "Συσχέτιση 14 με 18: 1.00 -> Αφαίρεση 18\n",
            "Συσχέτιση 15 με 16: 1.00 -> Αφαίρεση 16\n",
            "Συσχέτιση 22 με 26: 1.00 -> Αφαίρεση 26\n",
            "Συσχέτιση 23 με 24: 1.00 -> Αφαίρεση 24\n"
          ]
        }
      ],
      "source": [
        "def remove_high_correlation_columns_full_matrix(data, threshold=0.8, verbose=False):\n",
        "    if isinstance(data, np.ndarray):\n",
        "        data = pd.DataFrame(data)\n",
        "\n",
        "    corr_matrix = data.corr().abs()\n",
        "    to_drop = set()\n",
        "\n",
        "    for i in range(len(corr_matrix.columns)):\n",
        "        for j in range(i + 1, len(corr_matrix.columns)):\n",
        "            if corr_matrix.iloc[i, j] > threshold:\n",
        "                col_i = corr_matrix.columns[i]\n",
        "                col_j = corr_matrix.columns[j]\n",
        "\n",
        "                to_drop.add(col_j)\n",
        "                if verbose:\n",
        "                    print(f\"Συσχέτιση {col_i} με {col_j}: {corr_matrix.iloc[i, j]:.2f} -> Αφαίρεση {col_j}\")\n",
        "\n",
        "\n",
        "    reduced_data = data.drop(columns=to_drop)\n",
        "    return reduced_data\n",
        "\n",
        "reduced_df = remove_high_correlation_columns_full_matrix(final_X, threshold=0.8, verbose=True)\n",
        "test_X = remove_high_correlation_columns_full_matrix(test_X, threshold=0.8, verbose=True)"
      ]
    },
    {
      "cell_type": "code",
      "execution_count": 10,
      "metadata": {
        "colab": {
          "base_uri": "https://localhost:8080/"
        },
        "id": "354XOualtDjt",
        "outputId": "aac210db-9437-42a4-9442-a006c275baf1"
      },
      "outputs": [
        {
          "name": "stdout",
          "output_type": "stream",
          "text": [
            "(5440, 22)\n"
          ]
        }
      ],
      "source": [
        "print(reduced_df.shape)"
      ]
    },
    {
      "cell_type": "code",
      "execution_count": 11,
      "metadata": {
        "colab": {
          "base_uri": "https://localhost:8080/"
        },
        "id": "bb0HgciapADV",
        "outputId": "5119787e-8b91-486b-c2d6-21ce820191fb"
      },
      "outputs": [
        {
          "name": "stdout",
          "output_type": "stream",
          "text": [
            "X_train: (3808, 22)\n",
            "X_val: (1632, 22)\n"
          ]
        }
      ],
      "source": [
        "X_train, X_val, y_train, y_val = train_test_split(reduced_df, y, test_size=0.3, random_state=RAND_STATE)\n",
        "print(f'X_train: {X_train.shape}\\nX_val: {X_val.shape}')"
      ]
    },
    {
      "cell_type": "code",
      "execution_count": 12,
      "metadata": {
        "colab": {
          "base_uri": "https://localhost:8080/"
        },
        "id": "-brkDeY6pJAd",
        "outputId": "de11e7b9-a49b-461a-b784-f85ad016ee78"
      },
      "outputs": [
        {
          "name": "stdout",
          "output_type": "stream",
          "text": [
            "X_train_smote: (5356, 22)\n",
            "X_train_adasyn: (5422, 22)\n"
          ]
        }
      ],
      "source": [
        "smote = SMOTE(random_state=RAND_STATE)\n",
        "X_train_smote, y_train_smote = smote.fit_resample(X_train, y_train)\n",
        "print(f'X_train_smote: {X_train_smote.shape}')\n",
        "\n",
        "adasyn = ADASYN(random_state=RAND_STATE)\n",
        "X_train_adasyn, y_train_adasyn = adasyn.fit_resample(X_train, y_train)\n",
        "print(f'X_train_adasyn: {X_train_adasyn.shape}')"
      ]
    },
    {
      "cell_type": "code",
      "execution_count": 16,
      "metadata": {
        "id": "lf_QXx39pLxW"
      },
      "outputs": [],
      "source": [
        "def auc_scorer(y_true, y_scores):\n",
        "    fpr, tpr, _ = roc_curve(y_true, y_scores)\n",
        "    return auc(fpr, tpr)\n",
        "auc_score = make_scorer(auc_scorer, needs_proba=True)"
      ]
    },
    {
      "cell_type": "code",
      "execution_count": 14,
      "metadata": {
        "id": "U6u-35hjtSCA"
      },
      "outputs": [],
      "source": [
        "def grid_search_rf(X_train, y_train, X_val, y_val, grid, cv=5):\n",
        "  gscv = GridSearchCV(\n",
        "    estimator=RandomForestClassifier(random_state=42),\n",
        "    param_grid=grid,\n",
        "    cv=cv,\n",
        "    scoring='roc_auc',\n",
        "    n_jobs=-1,\n",
        "    verbose=1\n",
        "  )\n",
        "  model = gscv.fit(X_train, y_train)\n",
        "  print('Grid Train:')\n",
        "  print(f'| Best parameters: {model.best_params_}')\n",
        "  print(f'| Best score: {model.best_score_}')\n",
        "\n",
        "  y_proba = model.predict_proba(X_val)[:, 1]\n",
        "  fpr, tpr, thresholds = roc_curve(y_val, y_proba)\n",
        "  final_auc = auc(fpr, tpr)\n",
        "  print(\"| Final AUC score on val set:\", final_auc)\n",
        "  print('-' * 30)\n"
      ]
    },
    {
      "cell_type": "code",
      "execution_count": 15,
      "metadata": {
        "colab": {
          "base_uri": "https://localhost:8080/"
        },
        "id": "dZK5S81xuKZ_",
        "outputId": "a64a5dda-0222-42f9-8284-2131e12f82fd"
      },
      "outputs": [
        {
          "name": "stdout",
          "output_type": "stream",
          "text": [
            "-----[ SMOTE ]-----\n",
            "Fitting 5 folds for each of 54 candidates, totalling 270 fits\n",
            "Grid Train:\n",
            "| Best parameters: {'max_depth': None, 'min_samples_leaf': 1, 'min_samples_split': 5, 'n_estimators': 550}\n",
            "| Best score: 0.8673520286088736\n",
            "| Final AUC score on val set: 0.6625204036207153\n",
            "------------------------------\n",
            "-----[ ADASYN ]-----\n",
            "Fitting 5 folds for each of 54 candidates, totalling 270 fits\n",
            "Grid Train:\n",
            "| Best parameters: {'max_depth': None, 'min_samples_leaf': 1, 'min_samples_split': 5, 'n_estimators': 550}\n",
            "| Best score: 0.8744053755910886\n",
            "| Final AUC score on val set: 0.6612943315031903\n",
            "------------------------------\n"
          ]
        }
      ],
      "source": [
        "rf_param_grid = {\n",
        "    'n_estimators': [100, 400, 550],\n",
        "    'max_depth': [None, 10, 20],\n",
        "    'min_samples_split': [5, 10],\n",
        "    'min_samples_leaf': [1, 2, 4],\n",
        "    #'max_features': ['sqrt', 'log2', None],\n",
        "}\n",
        "print(\"-----[ SMOTE ]-----\")\n",
        "grid_search_rf(X_train_smote, y_train_smote, X_val, y_val, rf_param_grid)\n",
        "\n",
        "print(\"-----[ ADASYN ]-----\")\n",
        "grid_search_rf(X_train_adasyn, y_train_adasyn, X_val, y_val, rf_param_grid)"
      ]
    },
    {
      "cell_type": "code",
      "execution_count": 16,
      "metadata": {
        "colab": {
          "base_uri": "https://localhost:8080/"
        },
        "id": "ZFileVNOGXGM",
        "outputId": "ec213886-ba62-4fb0-80e1-ee39d5de6248"
      },
      "outputs": [
        {
          "name": "stdout",
          "output_type": "stream",
          "text": [
            "-----[ SMOTE ]-----\n",
            "Fitting 5 folds for each of 108 candidates, totalling 540 fits\n",
            "Grid Train:\n",
            "| Best parameters: {'max_depth': None, 'max_features': 'sqrt', 'min_samples_leaf': 1, 'min_samples_split': 4, 'n_estimators': 550}\n",
            "| Best score: 0.8700444362439441\n",
            "| Final AUC score on val set: 0.6599625315328683\n",
            "------------------------------\n"
          ]
        }
      ],
      "source": [
        "optimized_param_grid = {\n",
        "    'n_estimators': [500, 550, 600],\n",
        "    'max_depth': [None, 5],\n",
        "    'min_samples_split': [4, 5, 6],\n",
        "    'min_samples_leaf': [1, 2],\n",
        "    'max_features': ['sqrt', 'log2', None]\n",
        "}\n",
        "\n",
        "print(\"-----[ SMOTE ]-----\")\n",
        "grid_search_rf(X_train_smote, y_train_smote, X_val, y_val, optimized_param_grid)\n",
        "\n",
        "#print(\"-----[ ADASYN ]-----\")\n",
        "#grid_search_rf(X_train_adasyn, y_train_adasyn, X_val, y_val, optimized_param_grid)"
      ]
    },
    {
      "cell_type": "code",
      "execution_count": 18,
      "metadata": {
        "colab": {
          "base_uri": "https://localhost:8080/"
        },
        "id": "cnIoTf96TwEj",
        "outputId": "89a275e2-da2e-4289-9c8b-054b242f7383"
      },
      "outputs": [
        {
          "name": "stdout",
          "output_type": "stream",
          "text": [
            "pred: (3400,)\n",
            "[0.72343506 0.61593723 0.56499267 ... 0.44611472 0.56516234 0.57104978]\n"
          ]
        }
      ],
      "source": [
        "best_model = RandomForestClassifier(\n",
        "    n_estimators = 550,\n",
        "    max_depth = None,\n",
        "    min_samples_leaf = 1,\n",
        "    min_samples_split = 5,\n",
        ")\n",
        "best_model.fit(X_train_smote, y_train_smote)\n",
        "pred = best_model.predict_proba(test_X)[:, 1]\n",
        "print(f'pred: {pred.shape}')\n",
        "print(pred)"
      ]
    },
    {
      "cell_type": "code",
      "execution_count": 19,
      "metadata": {
        "colab": {
          "base_uri": "https://localhost:8080/"
        },
        "id": "PATa52rsUAtA",
        "outputId": "d7aba724-6b77-4151-fdb7-a537d97e7b68"
      },
      "outputs": [
        {
          "name": "stdout",
          "output_type": "stream",
          "text": [
            "ids: (3400,)\n",
            "['S01_Sess01_FB001' 'S01_Sess01_FB002' 'S01_Sess01_FB003' ...\n",
            " 'S25_Sess05_FB098' 'S25_Sess05_FB099' 'S25_Sess05_FB100']\n"
          ]
        }
      ],
      "source": [
        "# Construct IdFeedback column\n",
        "ids = []\n",
        "for i in range(len(test_subjects)):\n",
        "    name = f'S{test_subjects[i]}'\n",
        "    for session in range(1, 5):\n",
        "        for fid in range(1, 61):\n",
        "            ids.append(f'{name}_Sess{session:02}_FB{fid:03}')\n",
        "    for fid in range(1, 101):\n",
        "        ids.append(f'{name}_Sess05_FB{fid:03}')\n",
        "ids = np.array(ids)\n",
        "print(f'ids: {ids.shape}')\n",
        "print(ids)"
      ]
    },
    {
      "cell_type": "code",
      "execution_count": 21,
      "metadata": {
        "id": "chdx_grEUFyk"
      },
      "outputs": [],
      "source": [
        "result = pd.DataFrame({\n",
        "    'IdFeedback': ids,\n",
        "    'Prediction': pred\n",
        "})\n",
        "result.to_csv('./rf_smote_templates1.csv', sep=',', index=False)"
      ]
    }
  ],
  "metadata": {
    "colab": {
      "provenance": []
    },
    "kernelspec": {
      "display_name": "Python 3",
      "name": "python3"
    },
    "language_info": {
      "codemirror_mode": {
        "name": "ipython",
        "version": 3
      },
      "file_extension": ".py",
      "mimetype": "text/x-python",
      "name": "python",
      "nbconvert_exporter": "python",
      "pygments_lexer": "ipython3",
      "version": "3.11.4"
    }
  },
  "nbformat": 4,
  "nbformat_minor": 0
}
