{
  "nbformat": 4,
  "nbformat_minor": 0,
  "metadata": {
    "colab": {
      "provenance": [],
      "authorship_tag": "ABX9TyM8o4Xpqpp887Puk4kr8BJv",
      "include_colab_link": true
    },
    "kernelspec": {
      "name": "python3",
      "display_name": "Python 3"
    },
    "language_info": {
      "name": "python"
    }
  },
  "cells": [
    {
      "cell_type": "markdown",
      "metadata": {
        "id": "view-in-github",
        "colab_type": "text"
      },
      "source": [
        "<a href=\"https://colab.research.google.com/github/nspyrop03/bci-challenge-ner15/blob/main/nn_templates.ipynb\" target=\"_parent\"><img src=\"https://colab.research.google.com/assets/colab-badge.svg\" alt=\"Open In Colab\"/></a>"
      ]
    },
    {
      "cell_type": "code",
      "source": [
        "from google.colab import drive\n",
        "drive.mount('/content/drive')\n",
        "%cd /content/drive/MyDrive/bci-challenge-ner15/"
      ],
      "metadata": {
        "colab": {
          "base_uri": "https://localhost:8080/"
        },
        "id": "2gRlHYsmr-HU",
        "outputId": "de99d136-4f4b-42c0-a2b0-2822ebbbeef3"
      },
      "execution_count": 2,
      "outputs": [
        {
          "output_type": "stream",
          "name": "stdout",
          "text": [
            "Drive already mounted at /content/drive; to attempt to forcibly remount, call drive.mount(\"/content/drive\", force_remount=True).\n",
            "/content/drive/MyDrive/bci-challenge-ner15\n"
          ]
        }
      ]
    },
    {
      "cell_type": "code",
      "source": [
        "import numpy as np\n",
        "import pandas as pd\n",
        "from sklearn.model_selection import train_test_split, GridSearchCV\n",
        "from sklearn.neural_network import MLPClassifier\n",
        "from sklearn.metrics import roc_curve, auc, make_scorer\n",
        "from imblearn.over_sampling import SMOTE, ADASYN\n",
        "\n",
        "from detection import SubjectData\n",
        "from utils import train_subjects, test_subjects"
      ],
      "metadata": {
        "id": "OsH0BeuEiOYL"
      },
      "execution_count": 25,
      "outputs": []
    },
    {
      "cell_type": "code",
      "source": [
        "RAND_STATE = 42"
      ],
      "metadata": {
        "id": "-FeV_1GskZQ6"
      },
      "execution_count": 26,
      "outputs": []
    },
    {
      "cell_type": "code",
      "source": [
        "labels = pd.read_csv('./data/TrainLabels.csv')\n",
        "y = labels['Prediction'].to_numpy()\n",
        "print(y.shape)"
      ],
      "metadata": {
        "colab": {
          "base_uri": "https://localhost:8080/"
        },
        "id": "PkDV429BoJu1",
        "outputId": "24f691f0-3bfa-4db9-d898-d973e86beae6"
      },
      "execution_count": 27,
      "outputs": [
        {
          "output_type": "stream",
          "name": "stdout",
          "text": [
            "(5440,)\n"
          ]
        }
      ]
    },
    {
      "cell_type": "code",
      "source": [
        "X = []\n",
        "for subject in train_subjects:\n",
        "  sd = SubjectData(subject, train=True)\n",
        "  X.append(np.hstack((sd.is_short.reshape(-1, 1), sd.get_green_similarity(), sd.get_feedback_similarity())))\n",
        "X = np.vstack(X)\n",
        "print(X.shape)"
      ],
      "metadata": {
        "colab": {
          "base_uri": "https://localhost:8080/"
        },
        "id": "JUSDvJ1cjD5v",
        "outputId": "a62d42b4-3f3c-448c-af34-f2c749ed1021"
      },
      "execution_count": 18,
      "outputs": [
        {
          "output_type": "stream",
          "name": "stdout",
          "text": [
            "(5440, 26)\n"
          ]
        }
      ]
    },
    {
      "cell_type": "code",
      "source": [
        "def get_session_and_trial(verbose=False):\n",
        "    features = []\n",
        "    for i in range(1, 5):\n",
        "        for j in range(1, 61):\n",
        "            features.append([i, j])\n",
        "    for j in range(1, 101):\n",
        "        features.append([5, j])\n",
        "    features = np.array(features)\n",
        "    if verbose: print(f'session_and_trial: {features.shape}')\n",
        "    return features\n",
        "\n",
        "def transform_data(X, verbose=False):\n",
        "  extra_features = get_session_and_trial(verbose=verbose)\n",
        "  extra_cols = []\n",
        "  for i in range(X.shape[0] // extra_features.shape[0]):\n",
        "    extra_cols.append(extra_features)\n",
        "  extra_cols = np.array(extra_cols)\n",
        "  extra_cols = extra_cols.reshape(extra_cols.shape[0] * extra_cols.shape[1], extra_cols.shape[2])\n",
        "  if verbose: print(f'extra_cols: {extra_cols.shape}')\n",
        "  final_X = np.hstack((extra_cols, X))\n",
        "  return final_X"
      ],
      "metadata": {
        "id": "UARcgwOQl0qU"
      },
      "execution_count": 21,
      "outputs": []
    },
    {
      "cell_type": "code",
      "source": [
        "final_X = transform_data(X, verbose=True)"
      ],
      "metadata": {
        "colab": {
          "base_uri": "https://localhost:8080/"
        },
        "id": "PWQBxi3qm6Cw",
        "outputId": "39064a9d-bbe7-46ad-9be2-de71c1679cf0"
      },
      "execution_count": 22,
      "outputs": [
        {
          "output_type": "stream",
          "name": "stdout",
          "text": [
            "session_and_trial: (340, 2)\n",
            "extra_cols: (5440, 2)\n"
          ]
        }
      ]
    },
    {
      "cell_type": "code",
      "source": [
        "print(final_X.shape)\n",
        "print(final_X[42])"
      ],
      "metadata": {
        "colab": {
          "base_uri": "https://localhost:8080/"
        },
        "id": "WQvNY5LhnPu3",
        "outputId": "e2083af6-4ca6-4c9d-befd-1ef8c0d42613"
      },
      "execution_count": 24,
      "outputs": [
        {
          "output_type": "stream",
          "name": "stdout",
          "text": [
            "(5440, 28)\n",
            "[ 1.         43.          1.          0.0543408   0.07846813  0.59062705\n",
            "  0.17124898  0.53101865  0.52969934  0.57644477  0.17124898  0.10183663\n",
            "  0.12761402  0.21723377  0.13522701  0.44782589  0.45304061  0.30480136\n",
            "  0.13522701  0.05373682  0.05618085  0.31781987  0.10753104  0.47171442\n",
            "  0.476525    0.31740053  0.10753104  0.        ]\n"
          ]
        }
      ]
    },
    {
      "cell_type": "code",
      "source": [
        "X_train, X_val, y_train, y_val = train_test_split(final_X, y, test_size=0.3, random_state=RAND_STATE)\n",
        "print(f'X_train: {X_train.shape}\\nX_val: {X_val.shape}')"
      ],
      "metadata": {
        "colab": {
          "base_uri": "https://localhost:8080/"
        },
        "id": "ZllyH5y5nck2",
        "outputId": "9c80e3c0-2d0b-49d0-d0e3-27c4214c0c7e"
      },
      "execution_count": 28,
      "outputs": [
        {
          "output_type": "stream",
          "name": "stdout",
          "text": [
            "X_train: (3808, 28)\n",
            "X_val: (1632, 28)\n"
          ]
        }
      ]
    },
    {
      "cell_type": "code",
      "source": [
        "smote = SMOTE(random_state=RAND_STATE)\n",
        "X_train_smote, y_train_smote = smote.fit_resample(X_train, y_train)\n",
        "print(f'X_train_smote: {X_train_smote.shape}')\n",
        "\n",
        "adasyn = ADASYN(random_state=RAND_STATE)\n",
        "X_train_adasyn, y_train_adasyn = adasyn.fit_resample(X_train, y_train)\n",
        "print(f'X_train_adasyn: {X_train_adasyn.shape}')"
      ],
      "metadata": {
        "colab": {
          "base_uri": "https://localhost:8080/"
        },
        "id": "wJ9aKylRpTMx",
        "outputId": "2e5d8c9a-5c8c-4ceb-b750-3127898b299e"
      },
      "execution_count": 30,
      "outputs": [
        {
          "output_type": "stream",
          "name": "stdout",
          "text": [
            "X_train_smote: (5356, 28)\n",
            "X_train_adasyn: (5426, 28)\n"
          ]
        }
      ]
    },
    {
      "cell_type": "code",
      "source": [
        "# Create custom scorer for GridSearchCV\n",
        "# y_scores is the predicted probabilities\n",
        "def auc_scorer(y_true, y_scores):\n",
        "    fpr, tpr, _ = roc_curve(y_true, y_scores)\n",
        "    return auc(fpr, tpr)\n",
        "auc_score = make_scorer(auc_scorer, needs_proba=True)"
      ],
      "metadata": {
        "id": "8M2NUiYnogRT"
      },
      "execution_count": 29,
      "outputs": []
    },
    {
      "cell_type": "code",
      "source": [
        "def grid_train_mlp(X_train, y_train, X_val, y_val, grid, cv=5):\n",
        "  gscv = GridSearchCV(estimator=MLPClassifier(random_state=RAND_STATE),\n",
        "                      param_grid=grid,\n",
        "                      cv=cv,\n",
        "                      scoring=auc_score,\n",
        "                      n_jobs=-1,\n",
        "                      verbose=1)\n",
        "  model = gscv.fit(X_train, y_train)\n",
        "  print('Grid Train:')\n",
        "  print(f'| Best parameters: {model.best_params_}')\n",
        "  print(f'| Best score: {model.best_score_}')\n",
        "  # Predict probabilities on the test set (for the positive class)\n",
        "  y_proba = model.predict_proba(X_val)[:, 1]\n",
        "  # Compute FPR, TPR\n",
        "  fpr, tpr, thresholds = roc_curve(y_val, y_proba)\n",
        "  # Compute AUC\n",
        "  final_auc = auc(fpr, tpr)\n",
        "  print(\"| Final AUC score on val set:\", final_auc)\n",
        "  print('-' * 30)\n"
      ],
      "metadata": {
        "id": "NA77a8xLpYJw"
      },
      "execution_count": 31,
      "outputs": []
    },
    {
      "cell_type": "code",
      "source": [
        "mlp_simple_grid = {\n",
        "    'hidden_layer_sizes': [(20,), (50,), (100,), (120,)],\n",
        "    'activation': ['relu', 'tanh'],\n",
        "    'learning_rate_init': [0.001, 0.002, 0.01],\n",
        "    'alpha': [1e-05, 4e-05, 1e-04]\n",
        "}\n",
        "print(\"-----[ SMOTE ]-----\")\n",
        "grid_train_mlp(X_train_smote, y_train_smote, X_val, y_val, mlp_simple_grid)\n",
        "\n",
        "print(\"-----[ ADASYN ]-----\")\n",
        "grid_train_mlp(X_train_adasyn, y_train_adasyn, X_val, y_val, mlp_simple_grid)"
      ],
      "metadata": {
        "colab": {
          "base_uri": "https://localhost:8080/"
        },
        "id": "tka4wTcHoodj",
        "outputId": "dcb50bcb-abd4-41dc-b9ab-9d81c408c260"
      },
      "execution_count": 33,
      "outputs": [
        {
          "output_type": "stream",
          "name": "stdout",
          "text": [
            "-----[ SMOTE ]-----\n",
            "Fitting 5 folds for each of 72 candidates, totalling 360 fits\n"
          ]
        },
        {
          "output_type": "stream",
          "name": "stderr",
          "text": [
            "/usr/local/lib/python3.11/dist-packages/sklearn/model_selection/_search.py:1108: UserWarning: One or more of the test scores are non-finite: [nan nan nan nan nan nan nan nan nan nan nan nan nan nan nan nan nan nan\n",
            " nan nan nan nan nan nan nan nan nan nan nan nan nan nan nan nan nan nan\n",
            " nan nan nan nan nan nan nan nan nan nan nan nan nan nan nan nan nan nan\n",
            " nan nan nan nan nan nan nan nan nan nan nan nan nan nan nan nan nan nan]\n",
            "  warnings.warn(\n"
          ]
        },
        {
          "output_type": "stream",
          "name": "stdout",
          "text": [
            "Grid Train:\n",
            "| Best parameters: {'activation': 'relu', 'alpha': 1e-05, 'hidden_layer_sizes': (20,), 'learning_rate_init': 0.001}\n",
            "| Best score: nan\n",
            "| Final AUC score on val set: 0.6516972102685858\n",
            "------------------------------\n",
            "-----[ ADASYN ]-----\n",
            "Fitting 5 folds for each of 72 candidates, totalling 360 fits\n"
          ]
        },
        {
          "output_type": "stream",
          "name": "stderr",
          "text": [
            "/usr/local/lib/python3.11/dist-packages/sklearn/model_selection/_search.py:1108: UserWarning: One or more of the test scores are non-finite: [nan nan nan nan nan nan nan nan nan nan nan nan nan nan nan nan nan nan\n",
            " nan nan nan nan nan nan nan nan nan nan nan nan nan nan nan nan nan nan\n",
            " nan nan nan nan nan nan nan nan nan nan nan nan nan nan nan nan nan nan\n",
            " nan nan nan nan nan nan nan nan nan nan nan nan nan nan nan nan nan nan]\n",
            "  warnings.warn(\n"
          ]
        },
        {
          "output_type": "stream",
          "name": "stdout",
          "text": [
            "Grid Train:\n",
            "| Best parameters: {'activation': 'relu', 'alpha': 1e-05, 'hidden_layer_sizes': (20,), 'learning_rate_init': 0.001}\n",
            "| Best score: nan\n",
            "| Final AUC score on val set: 0.6394179403472325\n",
            "------------------------------\n"
          ]
        }
      ]
    }
  ]
}