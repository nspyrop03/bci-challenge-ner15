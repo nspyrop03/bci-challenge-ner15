{
  "cells": [
    {
      "cell_type": "markdown",
      "metadata": {
        "colab_type": "text",
        "id": "view-in-github"
      },
      "source": [
        "<a href=\"https://colab.research.google.com/github/nspyrop03/bci-challenge-ner15/blob/main/nn_templates.ipynb\" target=\"_parent\"><img src=\"https://colab.research.google.com/assets/colab-badge.svg\" alt=\"Open In Colab\"/></a>"
      ]
    },
    {
      "cell_type": "code",
      "execution_count": 1,
      "metadata": {
        "colab": {
          "base_uri": "https://localhost:8080/"
        },
        "id": "2gRlHYsmr-HU",
        "outputId": "64ff3bf3-0768-4598-e1a2-77b03defa441"
      },
      "outputs": [
        {
          "name": "stdout",
          "output_type": "stream",
          "text": [
            "Mounted at /content/drive\n",
            "/content/drive/MyDrive/bci-challenge-ner15\n"
          ]
        }
      ],
      "source": [
        "from google.colab import drive\n",
        "drive.mount('/content/drive')\n",
        "%cd /content/drive/MyDrive/bci-challenge-ner15/"
      ]
    },
    {
      "cell_type": "code",
      "execution_count": 1,
      "metadata": {
        "id": "OsH0BeuEiOYL"
      },
      "outputs": [],
      "source": [
        "import numpy as np\n",
        "import pandas as pd\n",
        "from sklearn.model_selection import train_test_split, GridSearchCV, RandomizedSearchCV\n",
        "from sklearn.neural_network import MLPClassifier\n",
        "from sklearn.metrics import roc_curve, auc, make_scorer\n",
        "from sklearn.svm import SVC\n",
        "from sklearn.linear_model import SGDClassifier\n",
        "from sklearn.preprocessing import StandardScaler\n",
        "from imblearn.over_sampling import SMOTE, ADASYN\n",
        "\n",
        "from detection import SubjectData\n",
        "from utils import train_subjects, test_subjects"
      ]
    },
    {
      "cell_type": "code",
      "execution_count": 3,
      "metadata": {
        "id": "-FeV_1GskZQ6"
      },
      "outputs": [],
      "source": [
        "RAND_STATE = 42"
      ]
    },
    {
      "cell_type": "code",
      "execution_count": 4,
      "metadata": {
        "colab": {
          "base_uri": "https://localhost:8080/"
        },
        "id": "PkDV429BoJu1",
        "outputId": "444d5928-dbd1-478c-e4fe-7525105e9adb"
      },
      "outputs": [
        {
          "name": "stdout",
          "output_type": "stream",
          "text": [
            "(5440,)\n"
          ]
        }
      ],
      "source": [
        "labels = pd.read_csv('./data/TrainLabels.csv')\n",
        "y = labels['Prediction'].to_numpy()\n",
        "print(y.shape)"
      ]
    },
    {
      "cell_type": "code",
      "execution_count": 2,
      "metadata": {
        "colab": {
          "base_uri": "https://localhost:8080/"
        },
        "id": "JUSDvJ1cjD5v",
        "outputId": "bed3e7c7-8b18-490a-b816-3d53da035a8b"
      },
      "outputs": [
        {
          "name": "stdout",
          "output_type": "stream",
          "text": [
            "(5440, 26)\n"
          ]
        }
      ],
      "source": [
        "X = []\n",
        "for subject in train_subjects:\n",
        "  sd = SubjectData(subject, train=True)\n",
        "  X.append(np.hstack((sd.is_short.reshape(-1, 1), sd.get_green_similarity(), sd.get_feedback_similarity())))\n",
        "X = np.vstack(X)\n",
        "print(X.shape)"
      ]
    },
    {
      "cell_type": "code",
      "execution_count": 3,
      "metadata": {
        "id": "UARcgwOQl0qU"
      },
      "outputs": [],
      "source": [
        "def get_session_and_trial(verbose=False):\n",
        "    features = []\n",
        "    for i in range(1, 5):\n",
        "        for j in range(1, 61):\n",
        "            features.append([i, j])\n",
        "    for j in range(1, 101):\n",
        "        features.append([5, j])\n",
        "    features = np.array(features)\n",
        "    if verbose: print(f'session_and_trial: {features.shape}')\n",
        "    return features\n",
        "\n",
        "def transform_data(X, verbose=False):\n",
        "  extra_features = get_session_and_trial(verbose=verbose)\n",
        "  extra_cols = []\n",
        "  for i in range(X.shape[0] // extra_features.shape[0]):\n",
        "    extra_cols.append(extra_features)\n",
        "  extra_cols = np.array(extra_cols)\n",
        "  extra_cols = extra_cols.reshape(extra_cols.shape[0] * extra_cols.shape[1], extra_cols.shape[2])\n",
        "  if verbose: print(f'extra_cols: {extra_cols.shape}')\n",
        "  final_X = np.hstack((extra_cols, X))\n",
        "  return final_X"
      ]
    },
    {
      "cell_type": "code",
      "execution_count": 4,
      "metadata": {
        "colab": {
          "base_uri": "https://localhost:8080/"
        },
        "id": "PWQBxi3qm6Cw",
        "outputId": "ad0a7a32-b6c4-44d0-a47a-e5bff0fa152e"
      },
      "outputs": [
        {
          "name": "stdout",
          "output_type": "stream",
          "text": [
            "session_and_trial: (340, 2)\n",
            "extra_cols: (5440, 2)\n"
          ]
        }
      ],
      "source": [
        "final_X = transform_data(X, verbose=True)"
      ]
    },
    {
      "cell_type": "code",
      "execution_count": 5,
      "metadata": {
        "colab": {
          "base_uri": "https://localhost:8080/"
        },
        "id": "WQvNY5LhnPu3",
        "outputId": "678899f3-810e-43a1-fbfc-947a89629f4e"
      },
      "outputs": [
        {
          "name": "stdout",
          "output_type": "stream",
          "text": [
            "(5440, 28)\n",
            "[ 1.         43.          1.          0.0543408   0.07846813  0.59062705\n",
            "  0.17124898  0.53101865  0.52969934  0.57644477  0.17124898  0.10183663\n",
            "  0.12761402  0.21723377  0.13522701  0.44782589  0.45304061  0.30480136\n",
            "  0.13522701  0.05373682  0.05618085  0.31781987  0.10753104  0.47171442\n",
            "  0.476525    0.31740053  0.10753104  0.        ]\n"
          ]
        }
      ],
      "source": [
        "print(final_X.shape)\n",
        "print(final_X[42])"
      ]
    },
    {
      "cell_type": "code",
      "execution_count": 7,
      "metadata": {},
      "outputs": [],
      "source": [
        "np.save(\"./cache/rnn_data/handcrafted_features_train.npy\", final_X)"
      ]
    },
    {
      "cell_type": "code",
      "execution_count": 8,
      "metadata": {
        "colab": {
          "base_uri": "https://localhost:8080/"
        },
        "id": "ZllyH5y5nck2",
        "outputId": "cb2c3980-d1a5-41e3-afd5-bf03d26d32f9"
      },
      "outputs": [
        {
          "name": "stdout",
          "output_type": "stream",
          "text": [
            "X_train: (3808, 28)\n",
            "X_val: (1632, 28)\n"
          ]
        }
      ],
      "source": [
        "X_train, X_val, y_train, y_val = train_test_split(final_X, y, test_size=0.3, random_state=RAND_STATE)\n",
        "print(f'X_train: {X_train.shape}\\nX_val: {X_val.shape}')"
      ]
    },
    {
      "cell_type": "code",
      "execution_count": 9,
      "metadata": {
        "colab": {
          "base_uri": "https://localhost:8080/"
        },
        "id": "wJ9aKylRpTMx",
        "outputId": "30ec49fe-7bd3-4a8f-950d-02c56eb815eb"
      },
      "outputs": [
        {
          "name": "stdout",
          "output_type": "stream",
          "text": [
            "X_train_smote: (5356, 28)\n",
            "X_train_adasyn: (5426, 28)\n"
          ]
        }
      ],
      "source": [
        "smote = SMOTE(random_state=RAND_STATE)\n",
        "X_train_smote, y_train_smote = smote.fit_resample(X_train, y_train)\n",
        "print(f'X_train_smote: {X_train_smote.shape}')\n",
        "\n",
        "adasyn = ADASYN(random_state=RAND_STATE)\n",
        "X_train_adasyn, y_train_adasyn = adasyn.fit_resample(X_train, y_train)\n",
        "print(f'X_train_adasyn: {X_train_adasyn.shape}')"
      ]
    },
    {
      "cell_type": "code",
      "execution_count": 8,
      "metadata": {
        "colab": {
          "base_uri": "https://localhost:8080/"
        },
        "id": "lL0FU4DTt4_q",
        "outputId": "fbcd24ec-ba60-4b2a-edd9-c0ad2343023e"
      },
      "outputs": [
        {
          "name": "stdout",
          "output_type": "stream",
          "text": [
            "test_X: (3400, 26)\n",
            "session_and_trial: (340, 2)\n",
            "extra_cols: (3400, 2)\n",
            "test_X: (3400, 28)\n"
          ]
        }
      ],
      "source": [
        "test_X = []\n",
        "for subject in test_subjects:\n",
        "  sd = SubjectData(subject, train=False)\n",
        "  test_X.append(np.hstack((sd.is_short.reshape(-1, 1), sd.get_green_similarity(), sd.get_feedback_similarity())))\n",
        "test_X = np.vstack(test_X)\n",
        "print(f'test_X: {test_X.shape}')\n",
        "test_X = transform_data(test_X, verbose=True)\n",
        "print(f'test_X: {test_X.shape}')"
      ]
    },
    {
      "cell_type": "code",
      "execution_count": 9,
      "metadata": {},
      "outputs": [],
      "source": [
        "np.save(\"./cache/rnn_data/handcrafted_features_test.npy\", test_X)"
      ]
    },
    {
      "cell_type": "code",
      "execution_count": null,
      "metadata": {
        "id": "NA77a8xLpYJw"
      },
      "outputs": [],
      "source": [
        "# Create custom scorer for GridSearchCV\n",
        "# y_scores is the predicted probabilities\n",
        "def auc_scorer(y_true, y_scores):\n",
        "    fpr, tpr, _ = roc_curve(y_true, y_scores)\n",
        "    return auc(fpr, tpr)\n",
        "auc_score = make_scorer(auc_scorer, needs_proba=True)\n",
        "\n",
        "def grid_train_mlp(X_train, y_train, X_val, y_val, grid, cv=5, verbose=1):\n",
        "  gscv = GridSearchCV(estimator=MLPClassifier(random_state=RAND_STATE),\n",
        "                      param_grid=grid,\n",
        "                      cv=cv,\n",
        "                      scoring='roc_auc',\n",
        "                      n_jobs=-1,\n",
        "                      verbose=verbose)\n",
        "  model = gscv.fit(X_train, y_train)\n",
        "  print('Grid Train:')\n",
        "  print(f'| Best parameters: {model.best_params_}')\n",
        "  print(f'| Best score: {model.best_score_}')\n",
        "  # Predict probabilities on the test set (for the positive class)\n",
        "  y_proba = model.predict_proba(X_val)[:, 1]\n",
        "  # Compute FPR, TPR\n",
        "  fpr, tpr, thresholds = roc_curve(y_val, y_proba)\n",
        "  # Compute AUC\n",
        "  final_auc = auc(fpr, tpr)\n",
        "  print(\"| Final AUC score on val set:\", final_auc)\n",
        "  print('-' * 30)\n"
      ]
    },
    {
      "cell_type": "code",
      "execution_count": null,
      "metadata": {
        "colab": {
          "base_uri": "https://localhost:8080/"
        },
        "id": "tka4wTcHoodj",
        "outputId": "dcb50bcb-abd4-41dc-b9ab-9d81c408c260"
      },
      "outputs": [
        {
          "name": "stdout",
          "output_type": "stream",
          "text": [
            "-----[ SMOTE ]-----\n",
            "Fitting 5 folds for each of 72 candidates, totalling 360 fits\n"
          ]
        },
        {
          "name": "stderr",
          "output_type": "stream",
          "text": [
            "/usr/local/lib/python3.11/dist-packages/sklearn/model_selection/_search.py:1108: UserWarning: One or more of the test scores are non-finite: [nan nan nan nan nan nan nan nan nan nan nan nan nan nan nan nan nan nan\n",
            " nan nan nan nan nan nan nan nan nan nan nan nan nan nan nan nan nan nan\n",
            " nan nan nan nan nan nan nan nan nan nan nan nan nan nan nan nan nan nan\n",
            " nan nan nan nan nan nan nan nan nan nan nan nan nan nan nan nan nan nan]\n",
            "  warnings.warn(\n"
          ]
        },
        {
          "name": "stdout",
          "output_type": "stream",
          "text": [
            "Grid Train:\n",
            "| Best parameters: {'activation': 'relu', 'alpha': 1e-05, 'hidden_layer_sizes': (20,), 'learning_rate_init': 0.001}\n",
            "| Best score: nan\n",
            "| Final AUC score on val set: 0.6516972102685858\n",
            "------------------------------\n",
            "-----[ ADASYN ]-----\n",
            "Fitting 5 folds for each of 72 candidates, totalling 360 fits\n"
          ]
        },
        {
          "name": "stderr",
          "output_type": "stream",
          "text": [
            "/usr/local/lib/python3.11/dist-packages/sklearn/model_selection/_search.py:1108: UserWarning: One or more of the test scores are non-finite: [nan nan nan nan nan nan nan nan nan nan nan nan nan nan nan nan nan nan\n",
            " nan nan nan nan nan nan nan nan nan nan nan nan nan nan nan nan nan nan\n",
            " nan nan nan nan nan nan nan nan nan nan nan nan nan nan nan nan nan nan\n",
            " nan nan nan nan nan nan nan nan nan nan nan nan nan nan nan nan nan nan]\n",
            "  warnings.warn(\n"
          ]
        },
        {
          "name": "stdout",
          "output_type": "stream",
          "text": [
            "Grid Train:\n",
            "| Best parameters: {'activation': 'relu', 'alpha': 1e-05, 'hidden_layer_sizes': (20,), 'learning_rate_init': 0.001}\n",
            "| Best score: nan\n",
            "| Final AUC score on val set: 0.6394179403472325\n",
            "------------------------------\n"
          ]
        }
      ],
      "source": [
        "mlp_simple_grid = {\n",
        "    'hidden_layer_sizes': [(20,), (50,), (100,), (120,)],\n",
        "    'activation': ['relu', 'tanh'],\n",
        "    'learning_rate_init': [0.001, 0.002, 0.01],\n",
        "    'alpha': [1e-05, 4e-05, 1e-04]\n",
        "}\n",
        "print(\"-----[ SMOTE ]-----\")\n",
        "grid_train_mlp(X_train_smote, y_train_smote, X_val, y_val, mlp_simple_grid)\n",
        "\n",
        "print(\"-----[ ADASYN ]-----\")\n",
        "grid_train_mlp(X_train_adasyn, y_train_adasyn, X_val, y_val, mlp_simple_grid)"
      ]
    },
    {
      "cell_type": "code",
      "execution_count": null,
      "metadata": {
        "colab": {
          "base_uri": "https://localhost:8080/"
        },
        "id": "xMcpmhLQJ-Fj",
        "outputId": "681e5450-25b7-404c-f594-4e4a2f7fb85a"
      },
      "outputs": [
        {
          "name": "stdout",
          "output_type": "stream",
          "text": [
            "[0 1] [0 1]\n"
          ]
        }
      ],
      "source": [
        "print(np.unique(y_train), np.unique(y_val))"
      ]
    },
    {
      "cell_type": "markdown",
      "metadata": {
        "id": "ppkba9DMKX2c"
      },
      "source": [
        "Fitting 5 folds for each of 12 candidates, totalling 60 fits\n",
        "Grid Train:\n",
        "| Best parameters: {'activation': 'relu', 'alpha': 0.0001, 'hidden_layer_sizes': (10,), 'learning_rate_init': 0.1}\n",
        "| Best score: 0.6379013253968352\n",
        "| Final AUC score on val set: 0.6417643567294851"
      ]
    },
    {
      "cell_type": "code",
      "execution_count": null,
      "metadata": {
        "colab": {
          "base_uri": "https://localhost:8080/"
        },
        "id": "f3ZugUKmGQ5V",
        "outputId": "b5f7bff1-a8db-4bb8-a0f7-c9669e47f837"
      },
      "outputs": [
        {
          "name": "stdout",
          "output_type": "stream",
          "text": [
            "Fitting 5 folds for each of 72 candidates, totalling 360 fits\n",
            "Grid Train:\n",
            "| Best parameters: {'activation': 'relu', 'alpha': 7e-05, 'hidden_layer_sizes': (15,), 'learning_rate_init': 0.001}\n",
            "| Best score: 0.6445663266250831\n",
            "| Final AUC score on val set: 0.640669980709304\n",
            "------------------------------\n"
          ]
        }
      ],
      "source": [
        "mlp_simpler_grid = {\n",
        "    'hidden_layer_sizes': [(10,), (15,), (20,), (30,)],\n",
        "    'activation': ['relu', 'tanh'],\n",
        "    'learning_rate_init': [0.0001, 0.0005, 0.001],\n",
        "    'alpha': [1e-05, 4e-05, 7e-05]\n",
        "}\n",
        "grid_train_mlp(X_train, y_train, X_val, y_val, mlp_simpler_grid, verbose=10)"
      ]
    },
    {
      "cell_type": "code",
      "execution_count": null,
      "metadata": {
        "colab": {
          "base_uri": "https://localhost:8080/"
        },
        "id": "eJZ0ZP29OVVD",
        "outputId": "48455788-f618-4b2d-d9e1-c31e1f01847e"
      },
      "outputs": [
        {
          "name": "stdout",
          "output_type": "stream",
          "text": [
            "Fitting 5 folds for each of 54 candidates, totalling 270 fits\n",
            "Grid Train:\n",
            "| Best parameters: {'activation': 'relu', 'alpha': 0.0001, 'hidden_layer_sizes': (15,), 'learning_rate_init': 0.001}\n",
            "| Best score: 0.6807830225702288\n",
            "| Final AUC score on val set: 0.6437620566849681\n",
            "------------------------------\n"
          ]
        },
        {
          "name": "stderr",
          "output_type": "stream",
          "text": [
            "/usr/local/lib/python3.11/dist-packages/sklearn/neural_network/_multilayer_perceptron.py:691: ConvergenceWarning: Stochastic Optimizer: Maximum iterations (200) reached and the optimization hasn't converged yet.\n",
            "  warnings.warn(\n"
          ]
        }
      ],
      "source": [
        "mlp_smoter_grid = {\n",
        "    'hidden_layer_sizes': [(15,), (17,), (18,)],\n",
        "    'activation': ['relu', 'identity'],\n",
        "    'learning_rate_init': [0.007, 0.005, 0.001],\n",
        "    'alpha': [1e-04, 7e-05, 3e-04]\n",
        "}\n",
        "grid_train_mlp(X_train_smote, y_train_smote, X_val, y_val, mlp_smoter_grid, verbose=10)"
      ]
    },
    {
      "cell_type": "code",
      "execution_count": null,
      "metadata": {
        "colab": {
          "base_uri": "https://localhost:8080/",
          "height": 443
        },
        "id": "IxJWHCaZXMus",
        "outputId": "fe39b86e-f6c7-42a8-c531-3dfd8c145762"
      },
      "outputs": [
        {
          "name": "stdout",
          "output_type": "stream",
          "text": [
            "Fitting 5 folds for each of 432 candidates, totalling 2160 fits\n",
            "Grid Train:\n",
            "| Best parameters: {'activation': 'relu', 'alpha': 1e-05, 'hidden_layer_sizes': (15,), 'learning_rate_init': 0.0007, 'max_iter': 400, 'solver': 'adam'}\n",
            "| Best score: 0.6856220970055567\n",
            "| Final AUC score on val set: 0.6454926546965425\n",
            "------------------------------\n",
            "Fitting 5 folds for each of 432 candidates, totalling 2160 fits\n"
          ]
        },
        {
          "ename": "KeyboardInterrupt",
          "evalue": "",
          "output_type": "error",
          "traceback": [
            "\u001b[0;31m---------------------------------------------------------------------------\u001b[0m",
            "\u001b[0;31mKeyboardInterrupt\u001b[0m                         Traceback (most recent call last)",
            "\u001b[0;32m<ipython-input-18-f467a14c480a>\u001b[0m in \u001b[0;36m<cell line: 0>\u001b[0;34m()\u001b[0m\n\u001b[1;32m      8\u001b[0m }\n\u001b[1;32m      9\u001b[0m \u001b[0mgrid_train_mlp\u001b[0m\u001b[0;34m(\u001b[0m\u001b[0mX_train_smote\u001b[0m\u001b[0;34m,\u001b[0m \u001b[0my_train_smote\u001b[0m\u001b[0;34m,\u001b[0m \u001b[0mX_val\u001b[0m\u001b[0;34m,\u001b[0m \u001b[0my_val\u001b[0m\u001b[0;34m,\u001b[0m \u001b[0mmlp_grid1\u001b[0m\u001b[0;34m,\u001b[0m \u001b[0mverbose\u001b[0m\u001b[0;34m=\u001b[0m\u001b[0;36m10\u001b[0m\u001b[0;34m)\u001b[0m\u001b[0;34m\u001b[0m\u001b[0;34m\u001b[0m\u001b[0m\n\u001b[0;32m---> 10\u001b[0;31m \u001b[0mgrid_train_mlp\u001b[0m\u001b[0;34m(\u001b[0m\u001b[0mX_train_adasyn\u001b[0m\u001b[0;34m,\u001b[0m \u001b[0my_train_adasyn\u001b[0m\u001b[0;34m,\u001b[0m \u001b[0mX_val\u001b[0m\u001b[0;34m,\u001b[0m \u001b[0my_val\u001b[0m\u001b[0;34m,\u001b[0m \u001b[0mmlp_grid1\u001b[0m\u001b[0;34m,\u001b[0m \u001b[0mverbose\u001b[0m\u001b[0;34m=\u001b[0m\u001b[0;36m10\u001b[0m\u001b[0;34m)\u001b[0m\u001b[0;34m\u001b[0m\u001b[0;34m\u001b[0m\u001b[0m\n\u001b[0m",
            "\u001b[0;32m<ipython-input-11-a516c2aaef5e>\u001b[0m in \u001b[0;36mgrid_train_mlp\u001b[0;34m(X_train, y_train, X_val, y_val, grid, cv, verbose)\u001b[0m\n\u001b[1;32m     13\u001b[0m                       \u001b[0mn_jobs\u001b[0m\u001b[0;34m=\u001b[0m\u001b[0;34m-\u001b[0m\u001b[0;36m1\u001b[0m\u001b[0;34m,\u001b[0m\u001b[0;34m\u001b[0m\u001b[0;34m\u001b[0m\u001b[0m\n\u001b[1;32m     14\u001b[0m                       verbose=verbose)\n\u001b[0;32m---> 15\u001b[0;31m   \u001b[0mmodel\u001b[0m \u001b[0;34m=\u001b[0m \u001b[0mgscv\u001b[0m\u001b[0;34m.\u001b[0m\u001b[0mfit\u001b[0m\u001b[0;34m(\u001b[0m\u001b[0mX_train\u001b[0m\u001b[0;34m,\u001b[0m \u001b[0my_train\u001b[0m\u001b[0;34m)\u001b[0m\u001b[0;34m\u001b[0m\u001b[0;34m\u001b[0m\u001b[0m\n\u001b[0m\u001b[1;32m     16\u001b[0m   \u001b[0mprint\u001b[0m\u001b[0;34m(\u001b[0m\u001b[0;34m'Grid Train:'\u001b[0m\u001b[0;34m)\u001b[0m\u001b[0;34m\u001b[0m\u001b[0;34m\u001b[0m\u001b[0m\n\u001b[1;32m     17\u001b[0m   \u001b[0mprint\u001b[0m\u001b[0;34m(\u001b[0m\u001b[0;34mf'| Best parameters: {model.best_params_}'\u001b[0m\u001b[0;34m)\u001b[0m\u001b[0;34m\u001b[0m\u001b[0;34m\u001b[0m\u001b[0m\n",
            "\u001b[0;32m/usr/local/lib/python3.11/dist-packages/sklearn/base.py\u001b[0m in \u001b[0;36mwrapper\u001b[0;34m(estimator, *args, **kwargs)\u001b[0m\n\u001b[1;32m   1387\u001b[0m                 )\n\u001b[1;32m   1388\u001b[0m             ):\n\u001b[0;32m-> 1389\u001b[0;31m                 \u001b[0;32mreturn\u001b[0m \u001b[0mfit_method\u001b[0m\u001b[0;34m(\u001b[0m\u001b[0mestimator\u001b[0m\u001b[0;34m,\u001b[0m \u001b[0;34m*\u001b[0m\u001b[0margs\u001b[0m\u001b[0;34m,\u001b[0m \u001b[0;34m**\u001b[0m\u001b[0mkwargs\u001b[0m\u001b[0;34m)\u001b[0m\u001b[0;34m\u001b[0m\u001b[0;34m\u001b[0m\u001b[0m\n\u001b[0m\u001b[1;32m   1390\u001b[0m \u001b[0;34m\u001b[0m\u001b[0m\n\u001b[1;32m   1391\u001b[0m         \u001b[0;32mreturn\u001b[0m \u001b[0mwrapper\u001b[0m\u001b[0;34m\u001b[0m\u001b[0;34m\u001b[0m\u001b[0m\n",
            "\u001b[0;32m/usr/local/lib/python3.11/dist-packages/sklearn/model_selection/_search.py\u001b[0m in \u001b[0;36mfit\u001b[0;34m(self, X, y, **params)\u001b[0m\n\u001b[1;32m   1022\u001b[0m                 \u001b[0;32mreturn\u001b[0m \u001b[0mresults\u001b[0m\u001b[0;34m\u001b[0m\u001b[0;34m\u001b[0m\u001b[0m\n\u001b[1;32m   1023\u001b[0m \u001b[0;34m\u001b[0m\u001b[0m\n\u001b[0;32m-> 1024\u001b[0;31m             \u001b[0mself\u001b[0m\u001b[0;34m.\u001b[0m\u001b[0m_run_search\u001b[0m\u001b[0;34m(\u001b[0m\u001b[0mevaluate_candidates\u001b[0m\u001b[0;34m)\u001b[0m\u001b[0;34m\u001b[0m\u001b[0;34m\u001b[0m\u001b[0m\n\u001b[0m\u001b[1;32m   1025\u001b[0m \u001b[0;34m\u001b[0m\u001b[0m\n\u001b[1;32m   1026\u001b[0m             \u001b[0;31m# multimetric is determined here because in the case of a callable\u001b[0m\u001b[0;34m\u001b[0m\u001b[0;34m\u001b[0m\u001b[0m\n",
            "\u001b[0;32m/usr/local/lib/python3.11/dist-packages/sklearn/model_selection/_search.py\u001b[0m in \u001b[0;36m_run_search\u001b[0;34m(self, evaluate_candidates)\u001b[0m\n\u001b[1;32m   1569\u001b[0m     \u001b[0;32mdef\u001b[0m \u001b[0m_run_search\u001b[0m\u001b[0;34m(\u001b[0m\u001b[0mself\u001b[0m\u001b[0;34m,\u001b[0m \u001b[0mevaluate_candidates\u001b[0m\u001b[0;34m)\u001b[0m\u001b[0;34m:\u001b[0m\u001b[0;34m\u001b[0m\u001b[0;34m\u001b[0m\u001b[0m\n\u001b[1;32m   1570\u001b[0m         \u001b[0;34m\"\"\"Search all candidates in param_grid\"\"\"\u001b[0m\u001b[0;34m\u001b[0m\u001b[0;34m\u001b[0m\u001b[0m\n\u001b[0;32m-> 1571\u001b[0;31m         \u001b[0mevaluate_candidates\u001b[0m\u001b[0;34m(\u001b[0m\u001b[0mParameterGrid\u001b[0m\u001b[0;34m(\u001b[0m\u001b[0mself\u001b[0m\u001b[0;34m.\u001b[0m\u001b[0mparam_grid\u001b[0m\u001b[0;34m)\u001b[0m\u001b[0;34m)\u001b[0m\u001b[0;34m\u001b[0m\u001b[0;34m\u001b[0m\u001b[0m\n\u001b[0m\u001b[1;32m   1572\u001b[0m \u001b[0;34m\u001b[0m\u001b[0m\n\u001b[1;32m   1573\u001b[0m \u001b[0;34m\u001b[0m\u001b[0m\n",
            "\u001b[0;32m/usr/local/lib/python3.11/dist-packages/sklearn/model_selection/_search.py\u001b[0m in \u001b[0;36mevaluate_candidates\u001b[0;34m(candidate_params, cv, more_results)\u001b[0m\n\u001b[1;32m    968\u001b[0m                     )\n\u001b[1;32m    969\u001b[0m \u001b[0;34m\u001b[0m\u001b[0m\n\u001b[0;32m--> 970\u001b[0;31m                 out = parallel(\n\u001b[0m\u001b[1;32m    971\u001b[0m                     delayed(_fit_and_score)(\n\u001b[1;32m    972\u001b[0m                         \u001b[0mclone\u001b[0m\u001b[0;34m(\u001b[0m\u001b[0mbase_estimator\u001b[0m\u001b[0;34m)\u001b[0m\u001b[0;34m,\u001b[0m\u001b[0;34m\u001b[0m\u001b[0;34m\u001b[0m\u001b[0m\n",
            "\u001b[0;32m/usr/local/lib/python3.11/dist-packages/sklearn/utils/parallel.py\u001b[0m in \u001b[0;36m__call__\u001b[0;34m(self, iterable)\u001b[0m\n\u001b[1;32m     75\u001b[0m             \u001b[0;32mfor\u001b[0m \u001b[0mdelayed_func\u001b[0m\u001b[0;34m,\u001b[0m \u001b[0margs\u001b[0m\u001b[0;34m,\u001b[0m \u001b[0mkwargs\u001b[0m \u001b[0;32min\u001b[0m \u001b[0miterable\u001b[0m\u001b[0;34m\u001b[0m\u001b[0;34m\u001b[0m\u001b[0m\n\u001b[1;32m     76\u001b[0m         )\n\u001b[0;32m---> 77\u001b[0;31m         \u001b[0;32mreturn\u001b[0m \u001b[0msuper\u001b[0m\u001b[0;34m(\u001b[0m\u001b[0;34m)\u001b[0m\u001b[0;34m.\u001b[0m\u001b[0m__call__\u001b[0m\u001b[0;34m(\u001b[0m\u001b[0miterable_with_config\u001b[0m\u001b[0;34m)\u001b[0m\u001b[0;34m\u001b[0m\u001b[0;34m\u001b[0m\u001b[0m\n\u001b[0m\u001b[1;32m     78\u001b[0m \u001b[0;34m\u001b[0m\u001b[0m\n\u001b[1;32m     79\u001b[0m \u001b[0;34m\u001b[0m\u001b[0m\n",
            "\u001b[0;32m/usr/local/lib/python3.11/dist-packages/joblib/parallel.py\u001b[0m in \u001b[0;36m__call__\u001b[0;34m(self, iterable)\u001b[0m\n\u001b[1;32m   2005\u001b[0m         \u001b[0mnext\u001b[0m\u001b[0;34m(\u001b[0m\u001b[0moutput\u001b[0m\u001b[0;34m)\u001b[0m\u001b[0;34m\u001b[0m\u001b[0;34m\u001b[0m\u001b[0m\n\u001b[1;32m   2006\u001b[0m \u001b[0;34m\u001b[0m\u001b[0m\n\u001b[0;32m-> 2007\u001b[0;31m         \u001b[0;32mreturn\u001b[0m \u001b[0moutput\u001b[0m \u001b[0;32mif\u001b[0m \u001b[0mself\u001b[0m\u001b[0;34m.\u001b[0m\u001b[0mreturn_generator\u001b[0m \u001b[0;32melse\u001b[0m \u001b[0mlist\u001b[0m\u001b[0;34m(\u001b[0m\u001b[0moutput\u001b[0m\u001b[0;34m)\u001b[0m\u001b[0;34m\u001b[0m\u001b[0;34m\u001b[0m\u001b[0m\n\u001b[0m\u001b[1;32m   2008\u001b[0m \u001b[0;34m\u001b[0m\u001b[0m\n\u001b[1;32m   2009\u001b[0m     \u001b[0;32mdef\u001b[0m \u001b[0m__repr__\u001b[0m\u001b[0;34m(\u001b[0m\u001b[0mself\u001b[0m\u001b[0;34m)\u001b[0m\u001b[0;34m:\u001b[0m\u001b[0;34m\u001b[0m\u001b[0;34m\u001b[0m\u001b[0m\n",
            "\u001b[0;32m/usr/local/lib/python3.11/dist-packages/joblib/parallel.py\u001b[0m in \u001b[0;36m_get_outputs\u001b[0;34m(self, iterator, pre_dispatch)\u001b[0m\n\u001b[1;32m   1648\u001b[0m \u001b[0;34m\u001b[0m\u001b[0m\n\u001b[1;32m   1649\u001b[0m             \u001b[0;32mwith\u001b[0m \u001b[0mself\u001b[0m\u001b[0;34m.\u001b[0m\u001b[0m_backend\u001b[0m\u001b[0;34m.\u001b[0m\u001b[0mretrieval_context\u001b[0m\u001b[0;34m(\u001b[0m\u001b[0;34m)\u001b[0m\u001b[0;34m:\u001b[0m\u001b[0;34m\u001b[0m\u001b[0;34m\u001b[0m\u001b[0m\n\u001b[0;32m-> 1650\u001b[0;31m                 \u001b[0;32myield\u001b[0m \u001b[0;32mfrom\u001b[0m \u001b[0mself\u001b[0m\u001b[0;34m.\u001b[0m\u001b[0m_retrieve\u001b[0m\u001b[0;34m(\u001b[0m\u001b[0;34m)\u001b[0m\u001b[0;34m\u001b[0m\u001b[0;34m\u001b[0m\u001b[0m\n\u001b[0m\u001b[1;32m   1651\u001b[0m \u001b[0;34m\u001b[0m\u001b[0m\n\u001b[1;32m   1652\u001b[0m         \u001b[0;32mexcept\u001b[0m \u001b[0mGeneratorExit\u001b[0m\u001b[0;34m:\u001b[0m\u001b[0;34m\u001b[0m\u001b[0;34m\u001b[0m\u001b[0m\n",
            "\u001b[0;32m/usr/local/lib/python3.11/dist-packages/joblib/parallel.py\u001b[0m in \u001b[0;36m_retrieve\u001b[0;34m(self)\u001b[0m\n\u001b[1;32m   1760\u001b[0m                 (self._jobs[0].get_status(\n\u001b[1;32m   1761\u001b[0m                     timeout=self.timeout) == TASK_PENDING)):\n\u001b[0;32m-> 1762\u001b[0;31m                 \u001b[0mtime\u001b[0m\u001b[0;34m.\u001b[0m\u001b[0msleep\u001b[0m\u001b[0;34m(\u001b[0m\u001b[0;36m0.01\u001b[0m\u001b[0;34m)\u001b[0m\u001b[0;34m\u001b[0m\u001b[0;34m\u001b[0m\u001b[0m\n\u001b[0m\u001b[1;32m   1763\u001b[0m                 \u001b[0;32mcontinue\u001b[0m\u001b[0;34m\u001b[0m\u001b[0;34m\u001b[0m\u001b[0m\n\u001b[1;32m   1764\u001b[0m \u001b[0;34m\u001b[0m\u001b[0m\n",
            "\u001b[0;31mKeyboardInterrupt\u001b[0m: "
          ]
        }
      ],
      "source": [
        "mlp_grid1 = {\n",
        "    'hidden_layer_sizes': [(15,), (16,), (20,)],\n",
        "    'activation': ['relu', 'tanh'],\n",
        "    'learning_rate_init': [0.0007, 0.0005, 0.0003],\n",
        "    'alpha': [5e-04, 8e-04, 1e-05, 3e-05],\n",
        "    'max_iter': [250, 300, 400],\n",
        "    'solver': ['adam', 'sgd']\n",
        "}\n",
        "grid_train_mlp(X_train_smote, y_train_smote, X_val, y_val, mlp_grid1, verbose=10)\n",
        "grid_train_mlp(X_train_adasyn, y_train_adasyn, X_val, y_val, mlp_grid1, verbose=10)"
      ]
    },
    {
      "cell_type": "code",
      "execution_count": null,
      "metadata": {
        "colab": {
          "base_uri": "https://localhost:8080/"
        },
        "id": "1R84-38jtF2J",
        "outputId": "4b266fbd-8803-4f99-ac2d-c5d1085b0a45"
      },
      "outputs": [
        {
          "name": "stdout",
          "output_type": "stream",
          "text": [
            "(3400,)\n"
          ]
        }
      ],
      "source": [
        "model = MLPClassifier(\n",
        "    hidden_layer_sizes=(15,),\n",
        "    activation='relu',\n",
        "    max_iter=400,\n",
        "    learning_rate_init=0.0007,\n",
        "    solver='adam',\n",
        "    alpha=1e-05\n",
        ")\n",
        "model.fit(X_train_smote, y_train_smote)\n",
        "pred = model.predict_proba(test_X)[:, 1]\n",
        "print(pred.shape)"
      ]
    },
    {
      "cell_type": "code",
      "execution_count": null,
      "metadata": {
        "colab": {
          "base_uri": "https://localhost:8080/"
        },
        "id": "VtbkkK52vBld",
        "outputId": "d04e1c1f-dafa-4906-f29e-fc8ec7649439"
      },
      "outputs": [
        {
          "name": "stdout",
          "output_type": "stream",
          "text": [
            "ids: (3400,)\n",
            "['S01_Sess01_FB001' 'S01_Sess01_FB002' 'S01_Sess01_FB003' ...\n",
            " 'S25_Sess05_FB098' 'S25_Sess05_FB099' 'S25_Sess05_FB100']\n"
          ]
        }
      ],
      "source": [
        "ids = []\n",
        "for i in range(len(test_subjects)):\n",
        "    name = f'S{test_subjects[i]}'\n",
        "    for session in range(1, 5):\n",
        "        for fid in range(1, 61):\n",
        "            ids.append(f'{name}_Sess{session:02}_FB{fid:03}')\n",
        "    for fid in range(1, 101):\n",
        "        ids.append(f'{name}_Sess05_FB{fid:03}')\n",
        "ids = np.array(ids)\n",
        "print(f'ids: {ids.shape}')\n",
        "print(ids)"
      ]
    },
    {
      "cell_type": "code",
      "execution_count": null,
      "metadata": {
        "id": "zo67_R_axhjX"
      },
      "outputs": [],
      "source": []
    },
    {
      "cell_type": "code",
      "execution_count": null,
      "metadata": {
        "id": "zEFuF8qFvGE_"
      },
      "outputs": [],
      "source": [
        "result = pd.DataFrame({\n",
        "    'IdFeedback': ids,\n",
        "    'Prediction': pred\n",
        "})\n",
        "result.to_csv('./submissions/mlp_smote_templates1.csv', sep=',', index=False)"
      ]
    },
    {
      "cell_type": "markdown",
      "metadata": {
        "id": "p1G_s7Wqxe-Q"
      },
      "source": [
        "Let's try some SVMs..."
      ]
    },
    {
      "cell_type": "code",
      "execution_count": null,
      "metadata": {
        "id": "1_QwZcc3yF1g"
      },
      "outputs": [],
      "source": [
        "def grid_train_scv(X_train, y_train, X_val, y_val, grid, cv=5, verbose=1):\n",
        "  gscv = GridSearchCV(estimator=SVC(random_state=RAND_STATE, probability=True),\n",
        "                      param_grid=grid,\n",
        "                      cv=cv,\n",
        "                      scoring='roc_auc',\n",
        "                      n_jobs=-1,\n",
        "                      verbose=verbose)\n",
        "  model = gscv.fit(X_train, y_train)\n",
        "  print('Grid Train:')\n",
        "  print(f'| Best parameters: {model.best_params_}')\n",
        "  print(f'| Best score: {model.best_score_}')\n",
        "  # Predict probabilities on the test set (for the positive class)\n",
        "  y_proba = model.predict_proba(X_val)[:, 1]\n",
        "  # Compute FPR, TPR\n",
        "  fpr, tpr, thresholds = roc_curve(y_val, y_proba)\n",
        "  # Compute AUC\n",
        "  final_auc = auc(fpr, tpr)\n",
        "  print(\"| Final AUC score on val set:\", final_auc)\n",
        "  print('-' * 30)"
      ]
    },
    {
      "cell_type": "markdown",
      "metadata": {
        "id": "mjqG4KP_CRkI"
      },
      "source": [
        "Fitting 5 folds for each of 12 candidates, totalling 60 fits\n",
        "Grid Train:\n",
        "\n",
        "| Best parameters: {'C': 0.1, 'degree': 3, 'kernel': 'poly'}\n",
        "\n",
        "| Best score: 0.5702042687480635\n",
        "\n",
        "| Final AUC score on val set: 0.6095266359994065\n",
        "\n",
        "------------------------------"
      ]
    },
    {
      "cell_type": "markdown",
      "metadata": {
        "id": "b0SYrFhXiRp9"
      },
      "source": [
        "96 fits -> 5+ hours..."
      ]
    },
    {
      "cell_type": "code",
      "execution_count": null,
      "metadata": {
        "colab": {
          "base_uri": "https://localhost:8080/"
        },
        "id": "mvnuCqkSxh-o",
        "outputId": "fb58bee8-8d1d-4e66-83f6-d4d03b0bb169"
      },
      "outputs": [
        {
          "name": "stdout",
          "output_type": "stream",
          "text": [
            "Fitting 4 folds for each of 24 candidates, totalling 96 fits\n",
            "Grid Train:\n",
            "| Best parameters: {'C': 0.1, 'degree': 3, 'gamma': 'auto', 'kernel': 'poly'}\n",
            "| Best score: 0.6031417306622532\n",
            "| Final AUC score on val set: 0.6047521887520404\n",
            "------------------------------\n"
          ]
        }
      ],
      "source": [
        "svm_small_grid = {\n",
        "    'C': [0.001, 0.01, 0.1],\n",
        "    'kernel': ['sigmoid', 'poly'],\n",
        "    'degree': [2, 3],\n",
        "    'gamma': ['scale', 'auto']\n",
        "}\n",
        "grid_train_scv(X_train, y_train, X_val, y_val, svm_small_grid, cv=4)\n"
      ]
    },
    {
      "cell_type": "code",
      "execution_count": null,
      "metadata": {
        "colab": {
          "base_uri": "https://localhost:8080/"
        },
        "id": "JUCx3q3wgJkM",
        "outputId": "a9f40154-977e-40e4-ca97-6c269c7c5ecf"
      },
      "outputs": [
        {
          "name": "stdout",
          "output_type": "stream",
          "text": [
            "SMOTE:  0.6431147054459119\n"
          ]
        }
      ],
      "source": [
        "first_svm = SVC(random_state=RAND_STATE, probability=True, C=0.1, kernel='poly', degree=3, gamma='auto')\n",
        "first_svm.fit(X_train_smote, y_train_smote)\n",
        "pred = first_svm.predict_proba(X_val)[:, 1]\n",
        "fpr, tpr, thresholds = roc_curve(y_val, pred)\n",
        "final_auc = auc(fpr, tpr)\n",
        "print(\"SMOTE: \", final_auc)"
      ]
    },
    {
      "cell_type": "code",
      "execution_count": 17,
      "metadata": {
        "id": "YuUJZ-2HrE36"
      },
      "outputs": [],
      "source": [
        "def scale_and_train_sgd(X_train, y_train, X_val, y_val, grid, n_iter=30, cv=3, verbose=1):\n",
        "  scaler = StandardScaler()\n",
        "  X_scaled = scaler.fit_transform(X_train)\n",
        "  X_val_scaled = scaler.transform(X_val)\n",
        "  search = RandomizedSearchCV(\n",
        "    SGDClassifier(random_state=RAND_STATE),\n",
        "    grid,\n",
        "    n_iter=n_iter,\n",
        "    cv=cv,\n",
        "    n_jobs=-1,\n",
        "    random_state=RAND_STATE,\n",
        "    verbose=verbose,\n",
        "    scoring='roc_auc'\n",
        "  )\n",
        "  model = search.fit(X_scaled, y_train)\n",
        "  print('RandomGrid Train:')\n",
        "  print(f'| Best parameters: {model.best_params_}')\n",
        "  print(f'| Best score: {model.best_score_}')\n",
        "  y_proba = model.predict_proba(X_val_scaled)[:, 1]\n",
        "  fpr, tpr, thresholds = roc_curve(y_val, y_proba)\n",
        "  final_auc = auc(fpr, tpr)\n",
        "  print(\"| Final AUC score on val set:\", final_auc)\n",
        "  print('-' * 30)"
      ]
    },
    {
      "cell_type": "markdown",
      "metadata": {
        "id": "FsgFbJTKwRLb"
      },
      "source": [
        "Fitting 3 folds for each of 30 candidates, totalling 90 fits\n",
        "RandomGrid Train:\n",
        "\n",
        "| Best parameters: {'alpha': 0.01, 'eta0': 0.01, 'l1_ratio': np.float64(0.06489224710898156), 'learning_rate': 'optimal', 'loss': 'log_loss', 'max_iter': 1000, 'penalty': 'l2'}\n",
        "\n",
        "| Best score: 0.6418813886230889\n",
        "\n",
        "| Final AUC score on val set: 0.6463217836474254\n",
        "\n",
        "------------------------------"
      ]
    },
    {
      "cell_type": "code",
      "execution_count": 25,
      "metadata": {
        "colab": {
          "base_uri": "https://localhost:8080/"
        },
        "id": "sX3lyAR7uFKa",
        "outputId": "7ecb8be9-f3ba-4ce5-b370-9e3c7751f606"
      },
      "outputs": [
        {
          "name": "stdout",
          "output_type": "stream",
          "text": [
            "-----> SMOTE:\n",
            "Fitting 5 folds for each of 100 candidates, totalling 500 fits\n",
            "RandomGrid Train:\n",
            "| Best parameters: {'alpha': np.float64(0.004289592532297353), 'early_stopping': True, 'eta0': 0.08, 'l1_ratio': np.float64(0.24628111110045256), 'learning_rate': 'invscaling', 'loss': 'log_loss', 'max_iter': 2000, 'penalty': 'elasticnet', 'power_t': np.float64(0.37398594162404364), 'shuffle': True, 'tol': 0.0001, 'validation_fraction': 0.1}\n",
            "| Best score: 0.6576164359712109\n",
            "| Final AUC score on val set: 0.6531143344709898\n",
            "------------------------------\n",
            "-----> ADASYN:\n",
            "Fitting 5 folds for each of 100 candidates, totalling 500 fits\n",
            "RandomGrid Train:\n",
            "| Best parameters: {'alpha': np.float64(0.0018773201057654923), 'early_stopping': True, 'eta0': 0.15, 'l1_ratio': np.float64(0.21965788335074055), 'learning_rate': 'adaptive', 'loss': 'log_loss', 'max_iter': 2000, 'penalty': 'elasticnet', 'power_t': np.float64(0.14707849413428006), 'shuffle': False, 'tol': 7e-05, 'validation_fraction': 0.1}\n",
            "| Best score: 0.6437468511955962\n",
            "| Final AUC score on val set: 0.6501150022258495\n",
            "------------------------------\n"
          ]
        }
      ],
      "source": [
        "from scipy.stats import uniform, loguniform\n",
        "\n",
        "sgd_small_grid = {\n",
        "    'loss': ['hinge', 'log_loss', 'modified_huber'],\n",
        "    'penalty': ['l1', 'l2', 'elasticnet'],\n",
        "    'alpha': [1e-5, 1e-4, 1e-3, 1e-2, 0.1],  # Small values work better\n",
        "    'learning_rate': ['constant', 'optimal', 'invscaling'],\n",
        "    'eta0': [0.01, 0.1, 1],  # Samples between 0.01 and 1.01\n",
        "    'max_iter': [1000, 2000],  # Fixed options\n",
        "    'l1_ratio': uniform(0, 1)  # Only used if penalty='elasticnet'\n",
        "}\n",
        "\n",
        "sgd_bigger_grid = {\n",
        "    'loss': ['log_loss', 'modified_huber'],  # Drop 'hinge' since 'log_loss' won\n",
        "    'penalty': ['l2', 'elasticnet'],        # 'l1' less likely to outperform 'l2'\n",
        "    'alpha': loguniform(1e-4, 1e-1),        # Wider range around 0.01 (your best)\n",
        "    'learning_rate': ['optimal', 'adaptive', 'invscaling'],  # Added 'adaptive'\n",
        "    'eta0': [0.001, 0.01, 0.1],            # Finer granularity near 0.01\n",
        "    'max_iter': [1000, 2000, 3000],        # Test longer training\n",
        "    'l1_ratio': uniform(0.01, 0.3),        # Focus near 0.06 (your best)\n",
        "    'early_stopping': [True],               # Prevent overfitting\n",
        "    'validation_fraction': [0.1],           # For early stopping\n",
        "    'tol': [1e-4, 1e-3]                    # Stopping tolerance\n",
        "}\n",
        "\n",
        "sgd_final_grid = {\n",
        "    # Fixed based on best results\n",
        "    'loss': ['log_loss'],\n",
        "    'penalty': ['elasticnet'],\n",
        "    'early_stopping': [True],\n",
        "    'validation_fraction': [0.1],\n",
        "\n",
        "    # Optimized ranges around best values\n",
        "    'alpha': loguniform(1e-5, 1e-2),  # Tight around 0.00095\n",
        "    'l1_ratio': uniform(0.1, 0.35),    # Best was 0.223 → test [0.1, 0.45]\n",
        "    'eta0': [0.05, 0.06, 0.07, 0.08, 0.09, 0.1, 0.11, 0.12, 0.15, 0.2],         # Best was 0.1 → test nearby\n",
        "    'learning_rate': ['invscaling', 'adaptive'],  # 'adaptive' is a wildcard\n",
        "    'power_t': uniform(0.1, 0.5),      # Only for 'invscaling'\n",
        "    'max_iter': [2000, 3000, 5000],    # Test longer runs\n",
        "    'tol': [1e-4, 3e-4, 5e-4, 5e-5, 3e-5, 7e-5, 1e-5],               # Best was 1e-4 → try stricter\n",
        "    'shuffle': [True, False]           # Sometimes matters\n",
        "}\n",
        "\n",
        "print(\"-----> SMOTE:\")\n",
        "scale_and_train_sgd(X_train_smote, y_train_smote, X_val, y_val, sgd_final_grid, n_iter=100, cv=5)\n",
        "\n",
        "print(\"-----> ADASYN:\")\n",
        "scale_and_train_sgd(X_train_adasyn, y_train_adasyn, X_val, y_val, sgd_final_grid, n_iter=100, cv=5)"
      ]
    },
    {
      "cell_type": "code",
      "execution_count": 20,
      "metadata": {
        "colab": {
          "base_uri": "https://localhost:8080/"
        },
        "id": "jkrP9k41wguP",
        "outputId": "4829eab7-753f-438d-acb3-bb2484160adc"
      },
      "outputs": [
        {
          "name": "stdout",
          "output_type": "stream",
          "text": [
            "SMOTE:  0.6527674729188307\n"
          ]
        }
      ],
      "source": [
        "first_sgd = SGDClassifier(\n",
        "    random_state=RAND_STATE,\n",
        "    alpha=np.float64(0.0009503349811016555),\n",
        "    early_stopping=True,\n",
        "    eta0=0.1,\n",
        "    l1_ratio=np.float64(0.22334485973140536),\n",
        "    learning_rate='invscaling',\n",
        "    loss='log_loss',\n",
        "    max_iter=3000,\n",
        "    penalty='elasticnet',\n",
        "    tol=0.0001,\n",
        "    validation_fraction=0.1\n",
        ")\n",
        "smote_scaler = StandardScaler()\n",
        "X_scaled = smote_scaler.fit_transform(X_train_smote)\n",
        "X_val_scaled = smote_scaler.transform(X_val)\n",
        "first_sgd.fit(X_scaled, y_train_smote)\n",
        "pred = first_sgd.predict_proba(X_val_scaled)[:, 1]\n",
        "fpr, tpr, thresholds = roc_curve(y_val, pred)\n",
        "final_auc = auc(fpr, tpr)\n",
        "print(\"SMOTE: \", final_auc)"
      ]
    },
    {
      "cell_type": "code",
      "execution_count": 27,
      "metadata": {
        "id": "43c0mvTs_GQ4"
      },
      "outputs": [],
      "source": [
        "final_smote_sgd = SGDClassifier(\n",
        "    random_state=RAND_STATE,\n",
        "    alpha=np.float64(0.004289592532297353),\n",
        "    early_stopping=True,\n",
        "    eta0=0.15,\n",
        "    l1_ratio=np.float64(0.24628111110045256),\n",
        "    learning_rate='invscaling',\n",
        "    loss='log_loss',\n",
        "    max_iter=2000,\n",
        "    penalty='elasticnet',\n",
        "    tol=0.0001,\n",
        "    validation_fraction=0.1,\n",
        "    shuffle=True,\n",
        "    power_t=np.float64(0.37398594162404364)\n",
        ")\n",
        "smote_scaler = StandardScaler()\n",
        "X_scaled = smote_scaler.fit_transform(X_train_smote)\n",
        "X_val_scaled = smote_scaler.transform(X_val)\n",
        "X_test_scaled = smote_scaler.transform(test_X)\n",
        "\n",
        "final_smote_sgd.fit(X_scaled, y_train_smote)\n",
        "pred = final_smote_sgd.predict_proba(X_test_scaled)[:, 1]\n",
        "\n",
        "#fpr, tpr, thresholds = roc_curve(y_val, pred)\n",
        "#final_auc = auc(fpr, tpr)\n",
        "#print(\"SMOTE: \", final_auc) #-> SMOTE:  0.6528101350348717"
      ]
    },
    {
      "cell_type": "code",
      "execution_count": 30,
      "metadata": {
        "colab": {
          "base_uri": "https://localhost:8080/"
        },
        "id": "N8eX692iBvhU",
        "outputId": "0f94046f-442b-4f45-8b90-b53933e7b9e1"
      },
      "outputs": [
        {
          "name": "stdout",
          "output_type": "stream",
          "text": [
            "(3400,)\n",
            "ids: (3400,)\n",
            "['S01_Sess01_FB001' 'S01_Sess01_FB002' 'S01_Sess01_FB003' ...\n",
            " 'S25_Sess05_FB098' 'S25_Sess05_FB099' 'S25_Sess05_FB100']\n"
          ]
        }
      ],
      "source": [
        "print(pred.shape)\n",
        "# Construct IdFeedback column\n",
        "ids = []\n",
        "for i in range(len(test_subjects)):\n",
        "    name = f'S{test_subjects[i]}'\n",
        "    for session in range(1, 5):\n",
        "        for fid in range(1, 61):\n",
        "            ids.append(f'{name}_Sess{session:02}_FB{fid:03}')\n",
        "    for fid in range(1, 101):\n",
        "        ids.append(f'{name}_Sess05_FB{fid:03}')\n",
        "ids = np.array(ids)\n",
        "print(f'ids: {ids.shape}')\n",
        "print(ids)\n",
        "\n",
        "result = pd.DataFrame({\n",
        "    'IdFeedback': ids,\n",
        "    'Prediction': pred\n",
        "})\n",
        "result.to_csv('./submissions/sgd_smote_final1.csv', sep=',', index=False)"
      ]
    }
  ],
  "metadata": {
    "colab": {
      "authorship_tag": "ABX9TyP8d69sPZtNuEV47b/XCTxh",
      "include_colab_link": true,
      "provenance": []
    },
    "kernelspec": {
      "display_name": "bci-env",
      "language": "python",
      "name": "python3"
    },
    "language_info": {
      "codemirror_mode": {
        "name": "ipython",
        "version": 3
      },
      "file_extension": ".py",
      "mimetype": "text/x-python",
      "name": "python",
      "nbconvert_exporter": "python",
      "pygments_lexer": "ipython3",
      "version": "3.13.2"
    }
  },
  "nbformat": 4,
  "nbformat_minor": 0
}
