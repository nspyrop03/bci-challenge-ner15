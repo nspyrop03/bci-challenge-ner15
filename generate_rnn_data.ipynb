{
 "cells": [
  {
   "cell_type": "code",
   "execution_count": 1,
   "id": "c57cb693",
   "metadata": {},
   "outputs": [],
   "source": [
    "import numpy as np\n",
    "import pandas as pd\n",
    "from detection import FileProcessor, SubjectData\n",
    "from utils import train_subjects, test_subjects\n",
    "import h5py\n",
    "import matplotlib.pyplot as plt"
   ]
  },
  {
   "cell_type": "code",
   "execution_count": 7,
   "id": "c5240360",
   "metadata": {},
   "outputs": [
    {
     "name": "stdout",
     "output_type": "stream",
     "text": [
      "Finished processiong subject 02 session 1!\n",
      "Finished processiong subject 02 session 2!\n",
      "Finished processiong subject 02 session 3!\n",
      "Finished processiong subject 02 session 4!\n",
      "Finished processiong subject 02 session 5!\n",
      "Finished processiong subject 06 session 1!\n",
      "Finished processiong subject 06 session 2!\n",
      "Finished processiong subject 06 session 3!\n",
      "Finished processiong subject 06 session 4!\n",
      "Finished processiong subject 06 session 5!\n",
      "Finished processiong subject 07 session 1!\n",
      "Finished processiong subject 07 session 2!\n",
      "Finished processiong subject 07 session 3!\n",
      "Finished processiong subject 07 session 4!\n",
      "Finished processiong subject 07 session 5!\n",
      "Finished processiong subject 11 session 1!\n",
      "Finished processiong subject 11 session 2!\n",
      "Finished processiong subject 11 session 3!\n",
      "Finished processiong subject 11 session 4!\n",
      "Finished processiong subject 11 session 5!\n",
      "Finished processiong subject 12 session 1!\n",
      "Finished processiong subject 12 session 2!\n",
      "Finished processiong subject 12 session 3!\n",
      "Finished processiong subject 12 session 4!\n",
      "Finished processiong subject 12 session 5!\n",
      "Finished processiong subject 13 session 1!\n",
      "Finished processiong subject 13 session 2!\n",
      "Finished processiong subject 13 session 3!\n",
      "Finished processiong subject 13 session 4!\n",
      "Finished processiong subject 13 session 5!\n",
      "Finished processiong subject 14 session 1!\n",
      "Finished processiong subject 14 session 2!\n",
      "Finished processiong subject 14 session 3!\n",
      "Finished processiong subject 14 session 4!\n",
      "Finished processiong subject 14 session 5!\n",
      "Finished processiong subject 16 session 1!\n",
      "Finished processiong subject 16 session 2!\n",
      "Finished processiong subject 16 session 3!\n",
      "Finished processiong subject 16 session 4!\n",
      "Finished processiong subject 16 session 5!\n",
      "Finished processiong subject 17 session 1!\n",
      "Finished processiong subject 17 session 2!\n",
      "Finished processiong subject 17 session 3!\n",
      "Finished processiong subject 17 session 4!\n",
      "Finished processiong subject 17 session 5!\n",
      "Finished processiong subject 18 session 1!\n",
      "Finished processiong subject 18 session 2!\n",
      "Finished processiong subject 18 session 3!\n",
      "Finished processiong subject 18 session 4!\n",
      "Finished processiong subject 18 session 5!\n",
      "Finished processiong subject 20 session 1!\n",
      "Finished processiong subject 20 session 2!\n",
      "Finished processiong subject 20 session 3!\n",
      "Finished processiong subject 20 session 4!\n",
      "Finished processiong subject 20 session 5!\n",
      "Finished processiong subject 21 session 1!\n",
      "Finished processiong subject 21 session 2!\n",
      "Finished processiong subject 21 session 3!\n",
      "Finished processiong subject 21 session 4!\n",
      "Finished processiong subject 21 session 5!\n",
      "Finished processiong subject 22 session 1!\n",
      "Finished processiong subject 22 session 2!\n",
      "Finished processiong subject 22 session 3!\n",
      "Finished processiong subject 22 session 4!\n",
      "Finished processiong subject 22 session 5!\n",
      "Finished processiong subject 23 session 1!\n",
      "Finished processiong subject 23 session 2!\n",
      "Finished processiong subject 23 session 3!\n",
      "Finished processiong subject 23 session 4!\n",
      "Finished processiong subject 23 session 5!\n",
      "Finished processiong subject 24 session 1!\n",
      "Finished processiong subject 24 session 2!\n",
      "Finished processiong subject 24 session 3!\n",
      "Finished processiong subject 24 session 4!\n",
      "Finished processiong subject 24 session 5!\n",
      "Finished processiong subject 26 session 1!\n",
      "Finished processiong subject 26 session 2!\n",
      "Finished processiong subject 26 session 3!\n",
      "Finished processiong subject 26 session 4!\n",
      "Finished processiong subject 26 session 5!\n"
     ]
    }
   ],
   "source": [
    "# Generate train data\n",
    "train_data = {\n",
    "    'green': [],\n",
    "    'blinking': [],\n",
    "    'feedback': []\n",
    "}\n",
    "\n",
    "names = ['green', 'blinking', 'feedback']\n",
    "\n",
    "for subject in train_subjects:\n",
    "    for i in range(1, 6):\n",
    "        file_path = f'data/train/Data_S{subject}_Sess0{i}.csv'\n",
    "        fp = FileProcessor(file_path)\n",
    "        fdata = fp.get_segments_for_rnn()\n",
    "        for name in names:\n",
    "            for matrix in fdata[name]:\n",
    "                train_data[name].append(matrix)\n",
    "        print(f\"Finished processiong subject {subject} session {i}!\")\n",
    "\n",
    "# Check segment consistency\n",
    "assert len(train_data[names[0]]) == len(train_data[names[1]]) == len(train_data[names[2]]), \"Mismatched trial counts!\"\n",
    "\n",
    "with h5py.File('./cache/rnn_data/eeg_train_data.h5', 'w') as f:\n",
    "    for key in names:\n",
    "        # Create datasets with variable-length second dimension (shape is (n_channels, n_samples) where n_samples is variable)\n",
    "        f.create_group(key)\n",
    "        for i, arr in enumerate(train_data[key]):\n",
    "            f[key].create_dataset(str(i), data=arr)"
   ]
  },
  {
   "cell_type": "code",
   "execution_count": 8,
   "id": "ec46faef",
   "metadata": {},
   "outputs": [
    {
     "name": "stdout",
     "output_type": "stream",
     "text": [
      "Finished processiong subject 01 session 1!\n",
      "Finished processiong subject 01 session 2!\n",
      "Finished processiong subject 01 session 3!\n",
      "Finished processiong subject 01 session 4!\n",
      "Finished processiong subject 01 session 5!\n",
      "Finished processiong subject 03 session 1!\n",
      "Finished processiong subject 03 session 2!\n",
      "Finished processiong subject 03 session 3!\n",
      "Finished processiong subject 03 session 4!\n",
      "Finished processiong subject 03 session 5!\n",
      "Finished processiong subject 04 session 1!\n",
      "Finished processiong subject 04 session 2!\n",
      "Finished processiong subject 04 session 3!\n",
      "Finished processiong subject 04 session 4!\n",
      "Finished processiong subject 04 session 5!\n",
      "Finished processiong subject 05 session 1!\n",
      "Finished processiong subject 05 session 2!\n",
      "Finished processiong subject 05 session 3!\n",
      "Finished processiong subject 05 session 4!\n",
      "Finished processiong subject 05 session 5!\n",
      "Finished processiong subject 08 session 1!\n",
      "Finished processiong subject 08 session 2!\n",
      "Finished processiong subject 08 session 3!\n",
      "Finished processiong subject 08 session 4!\n",
      "Finished processiong subject 08 session 5!\n",
      "Finished processiong subject 09 session 1!\n",
      "Finished processiong subject 09 session 2!\n",
      "Finished processiong subject 09 session 3!\n",
      "Finished processiong subject 09 session 4!\n",
      "Finished processiong subject 09 session 5!\n",
      "Finished processiong subject 10 session 1!\n",
      "Finished processiong subject 10 session 2!\n",
      "Finished processiong subject 10 session 3!\n",
      "Finished processiong subject 10 session 4!\n",
      "Finished processiong subject 10 session 5!\n",
      "Finished processiong subject 15 session 1!\n",
      "Finished processiong subject 15 session 2!\n",
      "Finished processiong subject 15 session 3!\n",
      "Finished processiong subject 15 session 4!\n",
      "Finished processiong subject 15 session 5!\n",
      "Finished processiong subject 19 session 1!\n",
      "Finished processiong subject 19 session 2!\n",
      "Finished processiong subject 19 session 3!\n",
      "Finished processiong subject 19 session 4!\n",
      "Finished processiong subject 19 session 5!\n",
      "Finished processiong subject 25 session 1!\n",
      "Finished processiong subject 25 session 2!\n",
      "Finished processiong subject 25 session 3!\n",
      "Finished processiong subject 25 session 4!\n",
      "Finished processiong subject 25 session 5!\n"
     ]
    }
   ],
   "source": [
    "# Generate test data\n",
    "test_data = {\n",
    "    'green': [],\n",
    "    'blinking': [],\n",
    "    'feedback': []\n",
    "}\n",
    "\n",
    "names = ['green', 'blinking', 'feedback']\n",
    "\n",
    "for subject in test_subjects:\n",
    "    for i in range(1, 6):\n",
    "        file_path = f'data/test/Data_S{subject}_Sess0{i}.csv'\n",
    "        fp = FileProcessor(file_path)\n",
    "        fdata = fp.get_segments_for_rnn()\n",
    "        for name in names:\n",
    "            for matrix in fdata[name]:\n",
    "                test_data[name].append(matrix)\n",
    "        print(f\"Finished processiong subject {subject} session {i}!\")\n",
    "\n",
    "# Check segment consistency\n",
    "assert len(test_data[names[0]]) == len(test_data[names[1]]) == len(test_data[names[2]]), \"Mismatched trial counts!\"\n",
    "\n",
    "with h5py.File('./cache/rnn_data/eeg_test_data.h5', 'w') as f:\n",
    "    for key in names:\n",
    "        # Create datasets with variable-length second dimension (shape is (n_channels, n_samples) where n_samples is variable)\n",
    "        f.create_group(key)\n",
    "        for i, arr in enumerate(test_data[key]):\n",
    "            f[key].create_dataset(str(i), data=arr)"
   ]
  },
  {
   "cell_type": "code",
   "execution_count": 2,
   "id": "17950e41",
   "metadata": {},
   "outputs": [
    {
     "name": "stdout",
     "output_type": "stream",
     "text": [
      "(3400,) (3400,)\n"
     ]
    }
   ],
   "source": [
    "rnn_pred = pd.read_csv(\"./submissions/try6_NickNet.csv\")['Prediction'].to_numpy()\n",
    "sgd_pred = pd.read_csv(\"./submissions/sgd_smote_final1.csv\")['Prediction'].to_numpy()\n",
    "print(rnn_pred.shape, sgd_pred.shape)"
   ]
  },
  {
   "cell_type": "code",
   "execution_count": 3,
   "id": "1d52d824",
   "metadata": {},
   "outputs": [
    {
     "name": "stdout",
     "output_type": "stream",
     "text": [
      "(3400,)\n"
     ]
    }
   ],
   "source": [
    "rnn_w = 0.5005\n",
    "sgd_w = 0.4995\n",
    "ensemble_pred = rnn_w*rnn_pred + sgd_w*sgd_pred\n",
    "print(ensemble_pred.shape)"
   ]
  },
  {
   "cell_type": "code",
   "execution_count": 4,
   "id": "b39f1cdb",
   "metadata": {},
   "outputs": [
    {
     "name": "stdout",
     "output_type": "stream",
     "text": [
      "ids: (3400,)\n",
      "['S01_Sess01_FB001' 'S01_Sess01_FB002' 'S01_Sess01_FB003' ...\n",
      " 'S25_Sess05_FB098' 'S25_Sess05_FB099' 'S25_Sess05_FB100']\n"
     ]
    }
   ],
   "source": [
    "ids = []\n",
    "for i in range(len(test_subjects)):\n",
    "    name = f'S{test_subjects[i]}'\n",
    "    for session in range(1, 5):\n",
    "        for fid in range(1, 61):\n",
    "            ids.append(f'{name}_Sess{session:02}_FB{fid:03}')\n",
    "    for fid in range(1, 101):\n",
    "        ids.append(f'{name}_Sess05_FB{fid:03}')\n",
    "ids = np.array(ids)\n",
    "print(f'ids: {ids.shape}')\n",
    "print(ids)\n",
    "\n",
    "result = pd.DataFrame({\n",
    "    'IdFeedback': ids,\n",
    "    'Prediction': ensemble_pred\n",
    "})\n",
    "\n",
    "result.to_csv(\"./submissions/ensemble1.csv\", sep=',', index=False)"
   ]
  },
  {
   "cell_type": "code",
   "execution_count": 21,
   "id": "d9dc4b6d",
   "metadata": {},
   "outputs": [
    {
     "name": "stdout",
     "output_type": "stream",
     "text": [
      "(5440, 16, 220) (5440, 16, 260)\n",
      "(3400, 16, 220) (3400, 16, 260)\n"
     ]
    }
   ],
   "source": [
    "def h5tonpy(input_file):\n",
    "    with h5py.File(input_file) as f:\n",
    "        green = f['green'] \n",
    "        feedback = f['feedback']\n",
    "        green_arr = []\n",
    "        fb_arr = []\n",
    "        for i in range(len(green)):\n",
    "            part = np.array(green[str(i)])\n",
    "            #print(type(part), part.shape)\n",
    "            green_arr.append(part)\n",
    "        green_arr = np.array(green_arr)\n",
    "        #print(green_arr.shape)\n",
    "        #np.save('./cache/rnn_data/green_train.npy', green_arr)\n",
    "        for i in range(len(feedback)):\n",
    "            part = np.squeeze(np.array(feedback[str(i)]), axis=0)\n",
    "            #print(part.shape)\n",
    "            fb_arr.append(part)\n",
    "        n_min = min(arr.shape[1] for arr in fb_arr)\n",
    "        truncated_arrays = [arr[:, :n_min] for arr in fb_arr]\n",
    "        fb_arr = np.array(truncated_arrays)\n",
    "        #print(fb_arr.shape)\n",
    "        #np.save('./cache/rnn_data/feedback_train.npy', fb_arr)\n",
    "        return green_arr, fb_arr\n",
    "\n",
    "tr1, tr2 = h5tonpy('./cache/rnn_data/eeg_train_data.h5')\n",
    "print(tr1.shape, tr2.shape)\n",
    "np.save('./cache/rnn_data/green_train.npy', tr1)\n",
    "np.save('./cache/rnn_data/feedback_train.npy', tr2)\n",
    "\n",
    "te1, te2 = h5tonpy('./cache/rnn_data/eeg_test_data.h5')\n",
    "print(te1.shape, te2.shape)\n",
    "np.save('./cache/rnn_data/green_test.npy', te1)\n",
    "np.save('./cache/rnn_data/feedback_test.npy', te2)\n"
   ]
  },
  {
   "cell_type": "code",
   "execution_count": 6,
   "id": "0ec54f20",
   "metadata": {},
   "outputs": [
    {
     "name": "stdout",
     "output_type": "stream",
     "text": [
      "(260,)\n"
     ]
    },
    {
     "data": {
      "text/plain": [
       "[<matplotlib.lines.Line2D at 0x7fe6e40ed810>]"
      ]
     },
     "execution_count": 6,
     "metadata": {},
     "output_type": "execute_result"
    },
    {
     "data": {
      "image/png": "[encoded data removed]",
      "text/plain": [
       "<Figure size 640x480 with 1 Axes>"
      ]
     },
     "metadata": {},
     "output_type": "display_data"
    }
   ],
   "source": [
    "test = np.load('./cache/rnn_data/feedback_test.npy')\n",
    "x = test[0, 0]\n",
    "print(x.shape)\n",
    "plt.plot(x)"
   ]
  },
  {
   "cell_type": "code",
   "execution_count": 2,
   "id": "f2e4ef5e",
   "metadata": {},
   "outputs": [
    {
     "name": "stdout",
     "output_type": "stream",
     "text": [
      "(5440, 28)\n"
     ]
    }
   ],
   "source": [
    "temp = np.load(\"./cache/rnn_data/handcrafted_features_train.npy\")\n",
    "print(temp.shape)"
   ]
  },
  {
   "cell_type": "code",
   "execution_count": 2,
   "id": "7724a2a2",
   "metadata": {},
   "outputs": [],
   "source": [
    "features = []\n",
    "for i in range(len(train_subjects)):\n",
    "    sd = SubjectData(train_subjects[i], train=True)\n",
    "    features.append(sd.get_similarity_expanded())"
   ]
  },
  {
   "cell_type": "code",
   "execution_count": null,
   "id": "29544936",
   "metadata": {},
   "outputs": [
    {
     "name": "stdout",
     "output_type": "stream",
     "text": [
      "(16, 340, 16, 24)\n"
     ]
    }
   ],
   "source": [
    "features = np.array(features)\n",
    "print(features.shape)"
   ]
  },
  {
   "cell_type": "code",
   "execution_count": 4,
   "id": "cb0f69e0",
   "metadata": {},
   "outputs": [
    {
     "name": "stdout",
     "output_type": "stream",
     "text": [
      "(5440, 16, 24)\n"
     ]
    }
   ],
   "source": [
    "features = np.concatenate(features, axis=0)\n",
    "print(features.shape)"
   ]
  },
  {
   "cell_type": "code",
   "execution_count": 5,
   "id": "b82850fe",
   "metadata": {},
   "outputs": [],
   "source": [
    "np.save(\"./cache/rnn_data/sim_train.npy\", features)"
   ]
  }
 ],
 "metadata": {
  "kernelspec": {
   "display_name": "bci-env",
   "language": "python",
   "name": "python3"
  },
  "language_info": {
   "codemirror_mode": {
    "name": "ipython",
    "version": 3
   },
   "file_extension": ".py",
   "mimetype": "text/x-python",
   "name": "python",
   "nbconvert_exporter": "python",
   "pygments_lexer": "ipython3",
   "version": "3.13.2"
  }
 },
 "nbformat": 4,
 "nbformat_minor": 5
}
