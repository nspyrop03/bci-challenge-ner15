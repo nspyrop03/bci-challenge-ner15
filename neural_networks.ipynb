{
 "cells": [
  {
   "cell_type": "code",
   "execution_count": 21,
   "metadata": {},
   "outputs": [],
   "source": [
    "from detection import SubjectData\n",
    "from utils import train_subjects\n",
    "import numpy as np\n",
    "import pandas as pd\n",
    "from sklearn.model_selection import train_test_split, GridSearchCV\n",
    "from sklearn.neural_network import MLPClassifier\n",
    "from sklearn.metrics import classification_report, confusion_matrix, f1_score"
   ]
  },
  {
   "cell_type": "code",
   "execution_count": 18,
   "metadata": {},
   "outputs": [],
   "source": [
    "RAND_STATE = 42"
   ]
  },
  {
   "cell_type": "code",
   "execution_count": 22,
   "metadata": {},
   "outputs": [
    {
     "name": "stdout",
     "output_type": "stream",
     "text": [
      "(5440,)\n"
     ]
    }
   ],
   "source": [
    "labels = pd.read_csv('data/TrainLabels.csv')\n",
    "y = labels['Prediction'].to_numpy()\n",
    "print(y.shape)"
   ]
  },
  {
   "cell_type": "code",
   "execution_count": 2,
   "metadata": {},
   "outputs": [],
   "source": [
    "X = []\n",
    "for i in range(len(train_subjects)):\n",
    "    sd = SubjectData(train_subjects[i])\n",
    "    X.append(sd.errp_features)"
   ]
  },
  {
   "cell_type": "code",
   "execution_count": 6,
   "metadata": {},
   "outputs": [
    {
     "data": {
      "text/plain": [
       "(5440, 80)"
      ]
     },
     "execution_count": 6,
     "metadata": {},
     "output_type": "execute_result"
    }
   ],
   "source": [
    "X = np.array(X).reshape(X.shape[0]*X.shape[1], X.shape[2])\n",
    "X.shape\n"
   ]
  },
  {
   "cell_type": "markdown",
   "metadata": {},
   "source": [
    "ErrP features shape: (n_samples, n_features)\n",
    "\n",
    "n_features: ch1_check, ch1_mean, ch1_peak, ch1_latency, ch1_amplitude, ch2_check, ch2_mean, ..., ch16_amplitude\n",
    "\n",
    "Idea is to get the mean for each feature across all channels\n",
    "\n",
    "Check will be 1 if most checks are 1 otherwise 0\n"
   ]
  },
  {
   "cell_type": "code",
   "execution_count": 16,
   "metadata": {},
   "outputs": [
    {
     "name": "stdout",
     "output_type": "stream",
     "text": [
      "X_reshaped: (5440, 16, 5)\n",
      "final_X: (5440, 5)\n"
     ]
    }
   ],
   "source": [
    "X_reshaped = X.reshape(X.shape[0], 16, 5)\n",
    "print(f'X_reshaped: {X_reshaped.shape}')\n",
    "\n",
    "# Apply majority vote: 1 if sum > 8, else 0\n",
    "check = X_reshaped[:, :, 0]  # shape (n_samples, 16)\n",
    "majority_check = (check.sum(axis=1) > 8).astype(int)  # shape (n_samples,)\n",
    "\n",
    "mean_mean = X_reshaped[:, :, 1].mean(axis=1)\n",
    "mean_peak = X_reshaped[:, :, 2].mean(axis=1)\n",
    "mean_latency = X_reshaped[:, :, 3].mean(axis=1)\n",
    "mean_amplitude = X_reshaped[:, :, 4].mean(axis=1)\n",
    "\n",
    "final_X = np.stack([majority_check, mean_mean, mean_peak, mean_latency, mean_amplitude], axis=1)\n",
    "print(f'final_X: {final_X.shape}')"
   ]
  },
  {
   "cell_type": "code",
   "execution_count": 23,
   "metadata": {},
   "outputs": [],
   "source": [
    "X_train, X_val, y_train, y_val = train_test_split(final_X, y, test_size=0.3, random_state=RAND_STATE)"
   ]
  },
  {
   "cell_type": "code",
   "execution_count": 24,
   "metadata": {},
   "outputs": [],
   "source": [
    "mlp_grid = {\n",
    "    'hidden_layer_sizes': [(10,), (20,), (50,), (100,), (200,)],\n",
    "    'alpha': [0.0001, 0.001, 0.01],\n",
    "    'learning_rate_init': [0.001, 0.01]\n",
    "}"
   ]
  },
  {
   "cell_type": "code",
   "execution_count": 25,
   "metadata": {},
   "outputs": [
    {
     "name": "stdout",
     "output_type": "stream",
     "text": [
      "Fitting 5 folds for each of 30 candidates, totalling 150 fits\n",
      "[CV 3/5] END alpha=0.0001, hidden_layer_sizes=(10,), learning_rate_init=0.01;, score=0.702 total time=   0.3s\n",
      "[CV 2/5] END alpha=0.0001, hidden_layer_sizes=(10,), learning_rate_init=0.01;, score=0.703 total time=   0.4s\n",
      "[CV 1/5] END alpha=0.0001, hidden_layer_sizes=(10,), learning_rate_init=0.01;, score=0.703 total time=   0.4s\n",
      "[CV 4/5] END alpha=0.0001, hidden_layer_sizes=(10,), learning_rate_init=0.01;, score=0.696 total time=   0.4s\n",
      "[CV 5/5] END alpha=0.0001, hidden_layer_sizes=(10,), learning_rate_init=0.01;, score=0.703 total time=   0.4s\n",
      "[CV 2/5] END alpha=0.0001, hidden_layer_sizes=(10,), learning_rate_init=0.001;, score=0.703 total time=   1.3s\n",
      "[CV 3/5] END alpha=0.0001, hidden_layer_sizes=(10,), learning_rate_init=0.001;, score=0.703 total time=   1.5s\n",
      "[CV 5/5] END alpha=0.0001, hidden_layer_sizes=(10,), learning_rate_init=0.001;, score=0.703 total time=   1.6s\n",
      "[CV 1/5] END alpha=0.0001, hidden_layer_sizes=(10,), learning_rate_init=0.001;, score=0.703 total time=   1.8s\n",
      "[CV 4/5] END alpha=0.0001, hidden_layer_sizes=(10,), learning_rate_init=0.001;, score=0.696 total time=   1.9s\n",
      "[CV 1/5] END alpha=0.0001, hidden_layer_sizes=(20,), learning_rate_init=0.01;, score=0.640 total time=   0.4s\n",
      "[CV 1/5] END alpha=0.0001, hidden_layer_sizes=(20,), learning_rate_init=0.001;, score=0.703 total time=   1.6s\n",
      "[CV 2/5] END alpha=0.0001, hidden_layer_sizes=(20,), learning_rate_init=0.01;, score=0.703 total time=   0.3s\n",
      "[CV 2/5] END alpha=0.0001, hidden_layer_sizes=(20,), learning_rate_init=0.001;, score=0.703 total time=   1.8s[CV 4/5] END alpha=0.0001, hidden_layer_sizes=(20,), learning_rate_init=0.01;, score=0.674 total time=   0.5s\n",
      "\n",
      "[CV 3/5] END alpha=0.0001, hidden_layer_sizes=(20,), learning_rate_init=0.01;, score=0.702 total time=   0.7s\n",
      "[CV 5/5] END alpha=0.0001, hidden_layer_sizes=(20,), learning_rate_init=0.01;, score=0.707 total time=   0.6s\n",
      "[CV 3/5] END alpha=0.0001, hidden_layer_sizes=(20,), learning_rate_init=0.001;, score=0.703 total time=   2.2s\n",
      "[CV 4/5] END alpha=0.0001, hidden_layer_sizes=(20,), learning_rate_init=0.001;, score=0.700 total time=   2.0s\n",
      "[CV 5/5] END alpha=0.0001, hidden_layer_sizes=(20,), learning_rate_init=0.001;, score=0.703 total time=   2.2s\n",
      "[CV 1/5] END alpha=0.0001, hidden_layer_sizes=(50,), learning_rate_init=0.001;, score=0.703 total time=   1.8s\n",
      "[CV 1/5] END alpha=0.0001, hidden_layer_sizes=(50,), learning_rate_init=0.01;, score=0.703 total time=   0.9s\n",
      "[CV 2/5] END alpha=0.0001, hidden_layer_sizes=(50,), learning_rate_init=0.01;, score=0.703 total time=   0.7s\n",
      "[CV 4/5] END alpha=0.0001, hidden_layer_sizes=(50,), learning_rate_init=0.001;, score=0.696 total time=   1.5s\n",
      "[CV 2/5] END alpha=0.0001, hidden_layer_sizes=(50,), learning_rate_init=0.001;, score=0.698 total time=   1.5s\n",
      "[CV 5/5] END alpha=0.0001, hidden_layer_sizes=(50,), learning_rate_init=0.01;, score=0.703 total time=   0.5s\n",
      "[CV 5/5] END alpha=0.0001, hidden_layer_sizes=(50,), learning_rate_init=0.001;, score=0.707 total time=   1.9s\n",
      "[CV 4/5] END alpha=0.0001, hidden_layer_sizes=(50,), learning_rate_init=0.01;, score=0.703 total time=   0.6s\n",
      "[CV 2/5] END alpha=0.0001, hidden_layer_sizes=(100,), learning_rate_init=0.001;, score=0.701 total time=   0.9s\n",
      "[CV 1/5] END alpha=0.0001, hidden_layer_sizes=(100,), learning_rate_init=0.001;, score=0.703 total time=   1.0s\n",
      "[CV 3/5] END alpha=0.0001, hidden_layer_sizes=(50,), learning_rate_init=0.001;, score=0.703 total time=   2.6s\n",
      "[CV 3/5] END alpha=0.0001, hidden_layer_sizes=(100,), learning_rate_init=0.001;, score=0.703 total time=   1.2s\n",
      "[CV 3/5] END alpha=0.0001, hidden_layer_sizes=(50,), learning_rate_init=0.01;, score=0.702 total time=   1.8s\n",
      "[CV 2/5] END alpha=0.0001, hidden_layer_sizes=(100,), learning_rate_init=0.01;, score=0.693 total time=   0.6s\n",
      "[CV 1/5] END alpha=0.0001, hidden_layer_sizes=(100,), learning_rate_init=0.01;, score=0.703 total time=   1.1s\n",
      "[CV 5/5] END alpha=0.0001, hidden_layer_sizes=(100,), learning_rate_init=0.001;, score=0.704 total time=   1.1s\n",
      "[CV 4/5] END alpha=0.0001, hidden_layer_sizes=(100,), learning_rate_init=0.001;, score=0.700 total time=   1.3s\n",
      "[CV 5/5] END alpha=0.0001, hidden_layer_sizes=(100,), learning_rate_init=0.01;, score=0.703 total time=   0.8s\n",
      "[CV 4/5] END alpha=0.0001, hidden_layer_sizes=(100,), learning_rate_init=0.01;, score=0.703 total time=   1.1s\n",
      "[CV 3/5] END alpha=0.0001, hidden_layer_sizes=(100,), learning_rate_init=0.01;, score=0.703 total time=   1.4s\n",
      "[CV 5/5] END alpha=0.0001, hidden_layer_sizes=(200,), learning_rate_init=0.001;, score=0.703 total time=   1.3s\n",
      "[CV 2/5] END alpha=0.0001, hidden_layer_sizes=(200,), learning_rate_init=0.01;, score=0.702 total time=   1.2s\n",
      "[CV 1/5] END alpha=0.0001, hidden_layer_sizes=(200,), learning_rate_init=0.001;, score=0.703 total time=   1.8s\n",
      "[CV 3/5] END alpha=0.0001, hidden_layer_sizes=(200,), learning_rate_init=0.001;, score=0.703 total time=   1.9s\n",
      "[CV 1/5] END alpha=0.0001, hidden_layer_sizes=(200,), learning_rate_init=0.01;, score=0.703 total time=   1.6s\n",
      "[CV 3/5] END alpha=0.0001, hidden_layer_sizes=(200,), learning_rate_init=0.01;, score=0.698 total time=   1.3s\n",
      "[CV 4/5] END alpha=0.0001, hidden_layer_sizes=(200,), learning_rate_init=0.001;, score=0.703 total time=   2.2s\n",
      "[CV 2/5] END alpha=0.0001, hidden_layer_sizes=(200,), learning_rate_init=0.001;, score=0.703 total time=   2.4s\n",
      "[CV 1/5] END alpha=0.001, hidden_layer_sizes=(10,), learning_rate_init=0.01;, score=0.703 total time=   0.3s\n",
      "[CV 5/5] END alpha=0.0001, hidden_layer_sizes=(200,), learning_rate_init=0.01;, score=0.703 total time=   1.3s\n",
      "[CV 2/5] END alpha=0.001, hidden_layer_sizes=(10,), learning_rate_init=0.01;, score=0.703 total time=   0.8s\n",
      "[CV 4/5] END alpha=0.0001, hidden_layer_sizes=(200,), learning_rate_init=0.01;, score=0.698 total time=   2.0s\n",
      "[CV 3/5] END alpha=0.001, hidden_layer_sizes=(10,), learning_rate_init=0.01;, score=0.703 total time=   0.4s\n",
      "[CV 5/5] END alpha=0.001, hidden_layer_sizes=(10,), learning_rate_init=0.001;, score=0.703 total time=   1.5s\n",
      "[CV 2/5] END alpha=0.001, hidden_layer_sizes=(10,), learning_rate_init=0.001;, score=0.703 total time=   2.0s\n",
      "[CV 5/5] END alpha=0.001, hidden_layer_sizes=(10,), learning_rate_init=0.01;, score=0.703 total time=   0.5s\n",
      "[CV 1/5] END alpha=0.001, hidden_layer_sizes=(10,), learning_rate_init=0.001;, score=0.703 total time=   2.2s\n",
      "[CV 4/5] END alpha=0.001, hidden_layer_sizes=(10,), learning_rate_init=0.01;, score=0.696 total time=   0.5s\n",
      "[CV 4/5] END alpha=0.001, hidden_layer_sizes=(10,), learning_rate_init=0.001;, score=0.699 total time=   2.1s\n",
      "[CV 1/5] END alpha=0.001, hidden_layer_sizes=(20,), learning_rate_init=0.01;, score=0.635 total time=   0.4s\n",
      "[CV 3/5] END alpha=0.001, hidden_layer_sizes=(10,), learning_rate_init=0.001;, score=0.703 total time=   2.5s\n",
      "[CV 2/5] END alpha=0.001, hidden_layer_sizes=(20,), learning_rate_init=0.01;, score=0.703 total time=   0.4s\n",
      "[CV 3/5] END alpha=0.001, hidden_layer_sizes=(20,), learning_rate_init=0.01;, score=0.703 total time=   0.6s\n",
      "[CV 4/5] END alpha=0.001, hidden_layer_sizes=(20,), learning_rate_init=0.01;, score=0.681 total time=   0.7s\n",
      "[CV 2/5] END alpha=0.001, hidden_layer_sizes=(20,), learning_rate_init=0.001;, score=0.703 total time=   1.6s\n",
      "[CV 5/5] END alpha=0.001, hidden_layer_sizes=(20,), learning_rate_init=0.01;, score=0.706 total time=   0.7s\n",
      "[CV 1/5] END alpha=0.001, hidden_layer_sizes=(20,), learning_rate_init=0.001;, score=0.703 total time=   2.1s\n",
      "[CV 5/5] END alpha=0.001, hidden_layer_sizes=(20,), learning_rate_init=0.001;, score=0.703 total time=   1.9s\n",
      "[CV 3/5] END alpha=0.001, hidden_layer_sizes=(20,), learning_rate_init=0.001;, score=0.703 total time=   2.1s\n",
      "[CV 4/5] END alpha=0.001, hidden_layer_sizes=(20,), learning_rate_init=0.001;, score=0.699 total time=   2.6s\n",
      "[CV 2/5] END alpha=0.001, hidden_layer_sizes=(50,), learning_rate_init=0.01;, score=0.702 total time=   0.8s\n",
      "[CV 4/5] END alpha=0.001, hidden_layer_sizes=(50,), learning_rate_init=0.001;, score=0.698 total time=   1.4s\n",
      "[CV 1/5] END alpha=0.001, hidden_layer_sizes=(50,), learning_rate_init=0.01;, score=0.703 total time=   1.0s\n",
      "[CV 2/5] END alpha=0.001, hidden_layer_sizes=(50,), learning_rate_init=0.001;, score=0.701 total time=   1.7s\n",
      "[CV 5/5] END alpha=0.001, hidden_layer_sizes=(50,), learning_rate_init=0.001;, score=0.706 total time=   1.4s\n",
      "[CV 1/5] END alpha=0.001, hidden_layer_sizes=(50,), learning_rate_init=0.001;, score=0.703 total time=   2.1s\n",
      "[CV 4/5] END alpha=0.001, hidden_layer_sizes=(50,), learning_rate_init=0.01;, score=0.703 total time=   0.6s\n",
      "[CV 5/5] END alpha=0.001, hidden_layer_sizes=(50,), learning_rate_init=0.01;, score=0.704 total time=   0.8s\n",
      "[CV 3/5] END alpha=0.001, hidden_layer_sizes=(50,), learning_rate_init=0.01;, score=0.701 total time=   1.1s\n",
      "[CV 2/5] END alpha=0.001, hidden_layer_sizes=(100,), learning_rate_init=0.001;, score=0.701 total time=   1.0s\n",
      "[CV 1/5] END alpha=0.001, hidden_layer_sizes=(100,), learning_rate_init=0.001;, score=0.703 total time=   1.1s\n",
      "[CV 2/5] END alpha=0.001, hidden_layer_sizes=(100,), learning_rate_init=0.01;, score=0.420 total time=   0.5s\n",
      "[CV 3/5] END alpha=0.001, hidden_layer_sizes=(100,), learning_rate_init=0.001;, score=0.703 total time=   1.2s\n",
      "[CV 4/5] END alpha=0.001, hidden_layer_sizes=(100,), learning_rate_init=0.001;, score=0.700 total time=   1.2s\n",
      "[CV 3/5] END alpha=0.001, hidden_layer_sizes=(100,), learning_rate_init=0.01;, score=0.703 total time=   0.5s\n",
      "[CV 1/5] END alpha=0.001, hidden_layer_sizes=(100,), learning_rate_init=0.01;, score=0.703 total time=   1.0s\n",
      "[CV 3/5] END alpha=0.001, hidden_layer_sizes=(50,), learning_rate_init=0.001;, score=0.703 total time=   3.3s\n",
      "[CV 5/5] END alpha=0.001, hidden_layer_sizes=(100,), learning_rate_init=0.001;, score=0.706 total time=   1.6s\n",
      "[CV 4/5] END alpha=0.001, hidden_layer_sizes=(100,), learning_rate_init=0.01;, score=0.703 total time=   1.3s\n",
      "[CV 5/5] END alpha=0.001, hidden_layer_sizes=(100,), learning_rate_init=0.01;, score=0.703 total time=   1.2s\n",
      "[CV 1/5] END alpha=0.001, hidden_layer_sizes=(200,), learning_rate_init=0.001;, score=0.703 total time=   1.8s\n",
      "[CV 3/5] END alpha=0.001, hidden_layer_sizes=(200,), learning_rate_init=0.01;, score=0.699 total time=   1.0s\n",
      "[CV 2/5] END alpha=0.001, hidden_layer_sizes=(200,), learning_rate_init=0.01;, score=0.702 total time=   1.1s\n",
      "[CV 2/5] END alpha=0.001, hidden_layer_sizes=(200,), learning_rate_init=0.001;, score=0.699 total time=   2.4s\n",
      "[CV 4/5] END alpha=0.001, hidden_layer_sizes=(200,), learning_rate_init=0.001;, score=0.703 total time=   2.2s\n",
      "[CV 5/5] END alpha=0.001, hidden_layer_sizes=(200,), learning_rate_init=0.001;, score=0.704 total time=   2.2s\n",
      "[CV 1/5] END alpha=0.001, hidden_layer_sizes=(200,), learning_rate_init=0.01;, score=0.703 total time=   2.0s\n",
      "[CV 4/5] END alpha=0.001, hidden_layer_sizes=(200,), learning_rate_init=0.01;, score=0.677 total time=   1.3s\n",
      "[CV 5/5] END alpha=0.001, hidden_layer_sizes=(200,), learning_rate_init=0.01;, score=0.704 total time=   1.3s\n",
      "[CV 1/5] END alpha=0.01, hidden_layer_sizes=(10,), learning_rate_init=0.01;, score=0.703 total time=   1.2s\n",
      "[CV 2/5] END alpha=0.01, hidden_layer_sizes=(10,), learning_rate_init=0.01;, score=0.703 total time=   1.1s\n",
      "[CV 3/5] END alpha=0.01, hidden_layer_sizes=(10,), learning_rate_init=0.001;, score=0.703 total time=   2.0s\n",
      "[CV 3/5] END alpha=0.001, hidden_layer_sizes=(200,), learning_rate_init=0.001;, score=0.703 total time=   4.5s\n",
      "[CV 3/5] END alpha=0.01, hidden_layer_sizes=(10,), learning_rate_init=0.01;, score=0.703 total time=   0.6s\n",
      "[CV 4/5] END alpha=0.01, hidden_layer_sizes=(10,), learning_rate_init=0.001;, score=0.698 total time=   2.4s\n",
      "[CV 5/5] END alpha=0.01, hidden_layer_sizes=(10,), learning_rate_init=0.01;, score=0.703 total time=   0.6s\n",
      "[CV 4/5] END alpha=0.01, hidden_layer_sizes=(10,), learning_rate_init=0.01;, score=0.696 total time=   0.7s\n",
      "[CV 2/5] END alpha=0.01, hidden_layer_sizes=(10,), learning_rate_init=0.001;, score=0.703 total time=   2.9s\n",
      "[CV 1/5] END alpha=0.01, hidden_layer_sizes=(10,), learning_rate_init=0.001;, score=0.703 total time=   3.5s\n",
      "[CV 5/5] END alpha=0.01, hidden_layer_sizes=(10,), learning_rate_init=0.001;, score=0.703 total time=   3.0s\n",
      "[CV 1/5] END alpha=0.01, hidden_layer_sizes=(20,), learning_rate_init=0.01;, score=0.703 total time=   0.8s\n",
      "[CV 2/5] END alpha=0.01, hidden_layer_sizes=(20,), learning_rate_init=0.01;, score=0.689 total time=   0.7s\n",
      "[CV 1/5] END alpha=0.01, hidden_layer_sizes=(20,), learning_rate_init=0.001;, score=0.703 total time=   2.0s\n",
      "[CV 3/5] END alpha=0.01, hidden_layer_sizes=(20,), learning_rate_init=0.01;, score=0.685 total time=   1.0s\n",
      "[CV 4/5] END alpha=0.01, hidden_layer_sizes=(20,), learning_rate_init=0.01;, score=0.679 total time=   0.7s\n",
      "[CV 2/5] END alpha=0.01, hidden_layer_sizes=(20,), learning_rate_init=0.001;, score=0.703 total time=   2.2s\n",
      "[CV 5/5] END alpha=0.01, hidden_layer_sizes=(20,), learning_rate_init=0.01;, score=0.708 total time=   0.8s\n",
      "[CV 3/5] END alpha=0.01, hidden_layer_sizes=(20,), learning_rate_init=0.001;, score=0.703 total time=   2.4s\n",
      "[CV 5/5] END alpha=0.01, hidden_layer_sizes=(20,), learning_rate_init=0.001;, score=0.703 total time=   2.3s\n",
      "[CV 4/5] END alpha=0.01, hidden_layer_sizes=(20,), learning_rate_init=0.001;, score=0.699 total time=   2.6s\n",
      "[CV 2/5] END alpha=0.01, hidden_layer_sizes=(50,), learning_rate_init=0.01;, score=0.703 total time=   0.7s\n",
      "[CV 4/5] END alpha=0.01, hidden_layer_sizes=(50,), learning_rate_init=0.001;, score=0.698 total time=   1.3s\n",
      "[CV 2/5] END alpha=0.01, hidden_layer_sizes=(50,), learning_rate_init=0.001;, score=0.698 total time=   1.7s\n",
      "[CV 1/5] END alpha=0.01, hidden_layer_sizes=(50,), learning_rate_init=0.01;, score=0.703 total time=   1.2s\n",
      "[CV 5/5] END alpha=0.01, hidden_layer_sizes=(50,), learning_rate_init=0.001;, score=0.706 total time=   1.6s\n",
      "[CV 4/5] END alpha=0.01, hidden_layer_sizes=(50,), learning_rate_init=0.01;, score=0.682 total time=   0.6s\n",
      "[CV 1/5] END alpha=0.01, hidden_layer_sizes=(50,), learning_rate_init=0.001;, score=0.703 total time=   2.4s\n",
      "[CV 5/5] END alpha=0.01, hidden_layer_sizes=(50,), learning_rate_init=0.01;, score=0.704 total time=   0.6s\n",
      "[CV 3/5] END alpha=0.01, hidden_layer_sizes=(50,), learning_rate_init=0.01;, score=0.702 total time=   1.4s\n",
      "[CV 2/5] END alpha=0.01, hidden_layer_sizes=(100,), learning_rate_init=0.001;, score=0.701 total time=   1.1s\n",
      "[CV 3/5] END alpha=0.01, hidden_layer_sizes=(100,), learning_rate_init=0.001;, score=0.703 total time=   1.0s\n",
      "[CV 4/5] END alpha=0.01, hidden_layer_sizes=(100,), learning_rate_init=0.001;, score=0.698 total time=   1.0s\n",
      "[CV 3/5] END alpha=0.01, hidden_layer_sizes=(50,), learning_rate_init=0.001;, score=0.702 total time=   3.3s\n",
      "[CV 3/5] END alpha=0.01, hidden_layer_sizes=(100,), learning_rate_init=0.01;, score=0.703 total time=   0.6s\n",
      "[CV 2/5] END alpha=0.01, hidden_layer_sizes=(100,), learning_rate_init=0.01;, score=0.703 total time=   1.2s\n",
      "[CV 4/5] END alpha=0.01, hidden_layer_sizes=(100,), learning_rate_init=0.01;, score=0.703 total time=   0.8s\n",
      "[CV 1/5] END alpha=0.01, hidden_layer_sizes=(100,), learning_rate_init=0.01;, score=0.705 total time=   1.5s\n",
      "[CV 5/5] END alpha=0.01, hidden_layer_sizes=(100,), learning_rate_init=0.001;, score=0.704 total time=   1.6s\n",
      "[CV 5/5] END alpha=0.01, hidden_layer_sizes=(100,), learning_rate_init=0.01;, score=0.703 total time=   1.0s\n",
      "[CV 1/5] END alpha=0.01, hidden_layer_sizes=(100,), learning_rate_init=0.001;, score=0.703 total time=   3.1s\n",
      "[CV 1/5] END alpha=0.01, hidden_layer_sizes=(200,), learning_rate_init=0.001;, score=0.701 total time=   1.9s\n",
      "[CV 2/5] END alpha=0.01, hidden_layer_sizes=(200,), learning_rate_init=0.01;, score=0.702 total time=   1.3s\n",
      "[CV 1/5] END alpha=0.01, hidden_layer_sizes=(200,), learning_rate_init=0.01;, score=0.703 total time=   1.6s\n",
      "[CV 4/5] END alpha=0.01, hidden_layer_sizes=(200,), learning_rate_init=0.001;, score=0.703 total time=   1.8s\n",
      "[CV 3/5] END alpha=0.01, hidden_layer_sizes=(200,), learning_rate_init=0.001;, score=0.703 total time=   2.0s\n",
      "[CV 5/5] END alpha=0.01, hidden_layer_sizes=(200,), learning_rate_init=0.001;, score=0.704 total time=   2.0s\n",
      "[CV 3/5] END alpha=0.01, hidden_layer_sizes=(200,), learning_rate_init=0.01;, score=0.699 total time=   1.1s\n",
      "[CV 2/5] END alpha=0.01, hidden_layer_sizes=(200,), learning_rate_init=0.001;, score=0.699 total time=   2.5s\n",
      "[CV 5/5] END alpha=0.01, hidden_layer_sizes=(200,), learning_rate_init=0.01;, score=0.707 total time=   0.8s\n",
      "[CV 4/5] END alpha=0.01, hidden_layer_sizes=(200,), learning_rate_init=0.01;, score=0.696 total time=   1.5s\n",
      "Best parameters: {'alpha': 0.01, 'hidden_layer_sizes': (100,), 'learning_rate_init': 0.01}\n",
      "Best score: 0.7035186468971273\n",
      "F1 score: 0.8246823956442831\n"
     ]
    }
   ],
   "source": [
    "gscv = GridSearchCV(estimator=MLPClassifier(random_state=RAND_STATE), param_grid=mlp_grid, cv=5, n_jobs=-1, verbose=4)\n",
    "model = gscv.fit(X_train, y_train)\n",
    "print(f'Best parameters: {model.best_params_}')\n",
    "print(f'Best score: {model.best_score_}')\n",
    "\n",
    "score = f1_score(y_val, model.predict(X_val))\n",
    "print(f'F1 score: {score}')"
   ]
  }
 ],
 "metadata": {
  "kernelspec": {
   "display_name": "mm_env",
   "language": "python",
   "name": "python3"
  },
  "language_info": {
   "codemirror_mode": {
    "name": "ipython",
    "version": 3
   },
   "file_extension": ".py",
   "mimetype": "text/x-python",
   "name": "python",
   "nbconvert_exporter": "python",
   "pygments_lexer": "ipython3",
   "version": "3.12.3"
  }
 },
 "nbformat": 4,
 "nbformat_minor": 2
}
