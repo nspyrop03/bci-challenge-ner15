{
 "cells": [
  {
   "cell_type": "code",
   "execution_count": 33,
   "metadata": {},
   "outputs": [],
   "source": [
    "import detection\n",
    "from detection import SubjectData\n",
    "import utils\n",
    "from utils import train_subjects, test_subjects\n",
    "import numpy as np\n",
    "import pandas as pd\n",
    "from sklearn.model_selection import train_test_split, GridSearchCV\n",
    "from sklearn.neural_network import MLPClassifier\n",
    "from sklearn.metrics import classification_report, confusion_matrix, f1_score\n",
    "from sklearn.metrics import roc_curve, auc, make_scorer\n",
    "from imblearn.over_sampling import SMOTE, ADASYN"
   ]
  },
  {
   "cell_type": "code",
   "execution_count": null,
   "metadata": {},
   "outputs": [
    {
     "data": {
      "text/plain": [
       "<module 'utils' from '/home/nikolas-spyropoulos/Documents/uni/8_semester/e-health/inria-bci-challenge/utils.py'>"
      ]
     },
     "execution_count": 32,
     "metadata": {},
     "output_type": "execute_result"
    }
   ],
   "source": [
    "# Run this cell when you modify the detection or utils module.\n",
    "# This will reload the modules so you don't have to restart the kernel.\n",
    "import importlib\n",
    "importlib.reload(detection)\n",
    "importlib.reload(utils)"
   ]
  },
  {
   "cell_type": "code",
   "execution_count": 2,
   "metadata": {},
   "outputs": [],
   "source": [
    "RAND_STATE = 42"
   ]
  },
  {
   "cell_type": "code",
   "execution_count": 3,
   "metadata": {},
   "outputs": [
    {
     "name": "stdout",
     "output_type": "stream",
     "text": [
      "(5440,)\n"
     ]
    }
   ],
   "source": [
    "labels = pd.read_csv('data/TrainLabels.csv')\n",
    "y = labels['Prediction'].to_numpy()\n",
    "print(y.shape)"
   ]
  },
  {
   "cell_type": "code",
   "execution_count": 40,
   "metadata": {},
   "outputs": [
    {
     "name": "stdout",
     "output_type": "stream",
     "text": [
      "test_set: (3400, 80)\n"
     ]
    }
   ],
   "source": [
    "test_set = []\n",
    "for i in range(len(test_subjects)):\n",
    "    sd = SubjectData(test_subjects[i], train=False)\n",
    "    test_set.append(sd.errp_features)\n",
    "\n",
    "test_set = np.array(test_set)\n",
    "test_set = test_set.reshape(test_set.shape[0]*test_set.shape[1], test_set.shape[2])\n",
    "print(f'test_set: {test_set.shape}')"
   ]
  },
  {
   "cell_type": "code",
   "execution_count": 4,
   "metadata": {},
   "outputs": [],
   "source": [
    "X = []\n",
    "for i in range(len(train_subjects)):\n",
    "    sd = SubjectData(train_subjects[i])\n",
    "    X.append(sd.errp_features)"
   ]
  },
  {
   "cell_type": "code",
   "execution_count": 6,
   "metadata": {},
   "outputs": [
    {
     "data": {
      "text/plain": [
       "(5440, 80)"
      ]
     },
     "execution_count": 6,
     "metadata": {},
     "output_type": "execute_result"
    }
   ],
   "source": [
    "X = np.array(X)\n",
    "X = X.reshape(X.shape[0]*X.shape[1], X.shape[2])\n",
    "X.shape"
   ]
  },
  {
   "cell_type": "markdown",
   "metadata": {},
   "source": [
    "ErrP features shape: (n_samples, n_features)\n",
    "\n",
    "n_features: ch1_check, ch1_mean, ch1_peak, ch1_latency, ch1_amplitude, ch2_check, ch2_mean, ..., ch16_amplitude\n",
    "\n",
    "Idea is to get the mean for each feature across all channels\n",
    "\n",
    "Check will be 1 if most checks are 1 otherwise 0\n"
   ]
  },
  {
   "cell_type": "code",
   "execution_count": 41,
   "metadata": {},
   "outputs": [],
   "source": [
    "def transform_errp_data(X, verbose=False):\n",
    "    X_reshaped = X.reshape(X.shape[0], 16, 5)\n",
    "    if verbose: print(f'X_reshaped: {X_reshaped.shape}')\n",
    "\n",
    "    # Apply majority vote: 1 if sum > 8, else 0\n",
    "    check = X_reshaped[:, :, 0]  # shape (n_samples, 16)\n",
    "    majority_check = (check.sum(axis=1) > 8).astype(int)  # shape (n_samples,)\n",
    "\n",
    "    mean_mean = X_reshaped[:, :, 1].mean(axis=1)\n",
    "    mean_peak = X_reshaped[:, :, 2].mean(axis=1)\n",
    "    mean_latency = X_reshaped[:, :, 3].mean(axis=1)\n",
    "    mean_amplitude = X_reshaped[:, :, 4].mean(axis=1)\n",
    "\n",
    "    final_X = np.stack([majority_check, mean_mean, mean_peak, mean_latency, mean_amplitude], axis=1)\n",
    "    if verbose: print(f'final_X: {final_X.shape}')\n",
    "\n",
    "    return final_X"
   ]
  },
  {
   "cell_type": "code",
   "execution_count": null,
   "metadata": {},
   "outputs": [
    {
     "name": "stdout",
     "output_type": "stream",
     "text": [
      "X_reshaped: (5440, 16, 5)\n",
      "final_X: (5440, 5)\n"
     ]
    }
   ],
   "source": [
    "final_X = transform_errp_data(X, verbose=True)"
   ]
  },
  {
   "cell_type": "code",
   "execution_count": 42,
   "metadata": {},
   "outputs": [
    {
     "name": "stdout",
     "output_type": "stream",
     "text": [
      "X_reshaped: (3400, 16, 5)\n",
      "final_X: (3400, 5)\n"
     ]
    }
   ],
   "source": [
    "test_X = transform_errp_data(test_set, verbose=True)"
   ]
  },
  {
   "cell_type": "code",
   "execution_count": 18,
   "metadata": {},
   "outputs": [
    {
     "name": "stdout",
     "output_type": "stream",
     "text": [
      "X_train: (3808, 5)\n",
      "X_val: (1632, 5)\n"
     ]
    }
   ],
   "source": [
    "X_train, X_val, y_train, y_val = train_test_split(final_X, y, test_size=0.3, random_state=RAND_STATE)\n",
    "print(f'X_train: {X_train.shape}\\nX_val: {X_val.shape}')"
   ]
  },
  {
   "cell_type": "code",
   "execution_count": 9,
   "metadata": {},
   "outputs": [
    {
     "name": "stderr",
     "output_type": "stream",
     "text": [
      "/home/nikolas-spyropoulos/Documents/uni/7_semester/mm/mm_env/lib/python3.12/site-packages/sklearn/metrics/_scorer.py:610: FutureWarning: The `needs_threshold` and `needs_proba` parameter are deprecated in version 1.4 and will be removed in 1.6. You can either let `response_method` be `None` or set it to `predict` to preserve the same behaviour.\n",
      "  warnings.warn(\n"
     ]
    }
   ],
   "source": [
    "# Create custom scorer for GridSearchCV\n",
    "# y_scores is the predicted probabilities\n",
    "def auc_scorer(y_true, y_scores):\n",
    "    fpr, tpr, _ = roc_curve(y_true, y_scores)\n",
    "    return auc(fpr, tpr)\n",
    "auc_score = make_scorer(auc_scorer, needs_proba=True)"
   ]
  },
  {
   "cell_type": "code",
   "execution_count": 10,
   "metadata": {},
   "outputs": [],
   "source": [
    "mlp_grid = {\n",
    "    'hidden_layer_sizes': [(10,), (20,), (50,), (100,), (200,)],\n",
    "    'alpha': [0.0001, 0.001, 0.01],\n",
    "    'learning_rate_init': [0.001, 0.01]\n",
    "}"
   ]
  },
  {
   "cell_type": "code",
   "execution_count": null,
   "metadata": {},
   "outputs": [
    {
     "name": "stdout",
     "output_type": "stream",
     "text": [
      "Fitting 5 folds for each of 30 candidates, totalling 150 fits\n",
      "[CV] END alpha=0.0001, hidden_layer_sizes=(10,), learning_rate_init=0.01; total time=   0.4s\n",
      "[CV] END alpha=0.0001, hidden_layer_sizes=(10,), learning_rate_init=0.01; total time=   0.6s\n",
      "[CV] END alpha=0.0001, hidden_layer_sizes=(10,), learning_rate_init=0.01; total time=   0.3s\n",
      "[CV] END alpha=0.0001, hidden_layer_sizes=(10,), learning_rate_init=0.01; total time=   0.5s\n",
      "[CV] END alpha=0.0001, hidden_layer_sizes=(10,), learning_rate_init=0.01; total time=   0.4s\n",
      "[CV] END alpha=0.0001, hidden_layer_sizes=(10,), learning_rate_init=0.001; total time=   1.5s\n",
      "[CV] END alpha=0.0001, hidden_layer_sizes=(10,), learning_rate_init=0.001; total time=   1.6s\n",
      "[CV] END alpha=0.0001, hidden_layer_sizes=(10,), learning_rate_init=0.001; total time=   1.4s\n",
      "[CV] END alpha=0.0001, hidden_layer_sizes=(10,), learning_rate_init=0.001; total time=   1.5s\n",
      "[CV] END alpha=0.0001, hidden_layer_sizes=(10,), learning_rate_init=0.001; total time=   1.7s\n",
      "[CV] END alpha=0.0001, hidden_layer_sizes=(20,), learning_rate_init=0.01; total time=   0.4s[CV] END alpha=0.0001, hidden_layer_sizes=(20,), learning_rate_init=0.001; total time=   1.4s\n",
      "\n",
      "[CV] END alpha=0.0001, hidden_layer_sizes=(20,), learning_rate_init=0.01; total time=   0.4s\n",
      "[CV] END alpha=0.0001, hidden_layer_sizes=(20,), learning_rate_init=0.01; total time=   0.5s\n",
      "[CV] END alpha=0.0001, hidden_layer_sizes=(20,), learning_rate_init=0.01; total time=   0.6s\n",
      "[CV] END alpha=0.0001, hidden_layer_sizes=(20,), learning_rate_init=0.01; total time=   0.7s\n",
      "[CV] END alpha=0.0001, hidden_layer_sizes=(20,), learning_rate_init=0.001; total time=   1.9s\n",
      "[CV] END alpha=0.0001, hidden_layer_sizes=(20,), learning_rate_init=0.001; total time=   1.8s\n",
      "[CV] END alpha=0.0001, hidden_layer_sizes=(20,), learning_rate_init=0.001; total time=   1.7s\n",
      "[CV] END alpha=0.0001, hidden_layer_sizes=(20,), learning_rate_init=0.001; total time=   2.1s\n",
      "[CV] END alpha=0.0001, hidden_layer_sizes=(50,), learning_rate_init=0.001; total time=   1.4s\n",
      "[CV] END alpha=0.0001, hidden_layer_sizes=(50,), learning_rate_init=0.01; total time=   0.8s\n",
      "[CV] END alpha=0.0001, hidden_layer_sizes=(50,), learning_rate_init=0.001; total time=   1.2s\n",
      "[CV] END alpha=0.0001, hidden_layer_sizes=(50,), learning_rate_init=0.01; total time=   1.2s\n",
      "[CV] END alpha=0.0001, hidden_layer_sizes=(50,), learning_rate_init=0.001; total time=   2.0s\n",
      "[CV] END alpha=0.0001, hidden_layer_sizes=(50,), learning_rate_init=0.01; total time=   0.5s\n",
      "[CV] END alpha=0.0001, hidden_layer_sizes=(50,), learning_rate_init=0.01; total time=   0.6s\n",
      "[CV] END alpha=0.0001, hidden_layer_sizes=(50,), learning_rate_init=0.001; total time=   2.2s\n",
      "[CV] END alpha=0.0001, hidden_layer_sizes=(100,), learning_rate_init=0.001; total time=   0.9s\n",
      "[CV] END alpha=0.0001, hidden_layer_sizes=(50,), learning_rate_init=0.001; total time=   2.2s\n",
      "[CV] END alpha=0.0001, hidden_layer_sizes=(100,), learning_rate_init=0.001; total time=   0.9s\n",
      "[CV] END alpha=0.0001, hidden_layer_sizes=(50,), learning_rate_init=0.01; total time=   1.5s\n",
      "[CV] END alpha=0.0001, hidden_layer_sizes=(100,), learning_rate_init=0.001; total time=   1.4s\n",
      "[CV] END alpha=0.0001, hidden_layer_sizes=(100,), learning_rate_init=0.001; total time=   1.0s\n",
      "[CV] END alpha=0.0001, hidden_layer_sizes=(100,), learning_rate_init=0.01; total time=   0.6s\n",
      "[CV] END alpha=0.0001, hidden_layer_sizes=(100,), learning_rate_init=0.001; total time=   1.2s\n",
      "[CV] END alpha=0.0001, hidden_layer_sizes=(100,), learning_rate_init=0.01; total time=   1.0s\n",
      "[CV] END alpha=0.0001, hidden_layer_sizes=(100,), learning_rate_init=0.01; total time=   1.0s\n",
      "[CV] END alpha=0.0001, hidden_layer_sizes=(100,), learning_rate_init=0.01; total time=   1.2s\n",
      "[CV] END alpha=0.0001, hidden_layer_sizes=(100,), learning_rate_init=0.01; total time=   1.8s\n",
      "[CV] END alpha=0.0001, hidden_layer_sizes=(200,), learning_rate_init=0.001; total time=   1.8s\n",
      "[CV] END alpha=0.0001, hidden_layer_sizes=(200,), learning_rate_init=0.01; total time=   1.0s\n",
      "[CV] END alpha=0.0001, hidden_layer_sizes=(200,), learning_rate_init=0.001; total time=   2.0s\n",
      "[CV] END alpha=0.0001, hidden_layer_sizes=(200,), learning_rate_init=0.001; total time=   1.9s\n",
      "[CV] END alpha=0.0001, hidden_layer_sizes=(200,), learning_rate_init=0.001; total time=   1.8s\n",
      "[CV] END alpha=0.0001, hidden_layer_sizes=(200,), learning_rate_init=0.01; total time=   1.7s\n",
      "[CV] END alpha=0.0001, hidden_layer_sizes=(200,), learning_rate_init=0.01; total time=   1.3s\n",
      "[CV] END alpha=0.0001, hidden_layer_sizes=(200,), learning_rate_init=0.001; total time=   2.7s\n",
      "[CV] END alpha=0.0001, hidden_layer_sizes=(200,), learning_rate_init=0.01; total time=   1.0s\n",
      "[CV] END alpha=0.001, hidden_layer_sizes=(10,), learning_rate_init=0.01; total time=   0.5s\n",
      "[CV] END alpha=0.0001, hidden_layer_sizes=(200,), learning_rate_init=0.01; total time=   1.6s\n",
      "[CV] END alpha=0.001, hidden_layer_sizes=(10,), learning_rate_init=0.01; total time=   0.7s\n",
      "[CV] END alpha=0.001, hidden_layer_sizes=(10,), learning_rate_init=0.01; total time=   0.4s\n",
      "[CV] END alpha=0.001, hidden_layer_sizes=(10,), learning_rate_init=0.01; total time=   0.5s\n",
      "[CV] END alpha=0.001, hidden_layer_sizes=(10,), learning_rate_init=0.001; total time=   2.2s\n",
      "[CV] END alpha=0.001, hidden_layer_sizes=(10,), learning_rate_init=0.01; total time=   0.5s\n",
      "[CV] END alpha=0.001, hidden_layer_sizes=(10,), learning_rate_init=0.001; total time=   2.1s\n",
      "[CV] END alpha=0.001, hidden_layer_sizes=(10,), learning_rate_init=0.001; total time=   2.3s\n",
      "[CV] END alpha=0.001, hidden_layer_sizes=(10,), learning_rate_init=0.001; total time=   1.9s\n",
      "[CV] END alpha=0.001, hidden_layer_sizes=(10,), learning_rate_init=0.001; total time=   2.1s\n",
      "[CV] END alpha=0.001, hidden_layer_sizes=(20,), learning_rate_init=0.01; total time=   0.4s\n",
      "[CV] END alpha=0.001, hidden_layer_sizes=(20,), learning_rate_init=0.01; total time=   0.6s\n",
      "[CV] END alpha=0.001, hidden_layer_sizes=(20,), learning_rate_init=0.01; total time=   0.6s\n",
      "[CV] END alpha=0.001, hidden_layer_sizes=(20,), learning_rate_init=0.01; total time=   0.8s\n",
      "[CV] END alpha=0.001, hidden_layer_sizes=(20,), learning_rate_init=0.01; total time=   0.9s\n",
      "[CV] END alpha=0.001, hidden_layer_sizes=(20,), learning_rate_init=0.001; total time=   1.8s\n",
      "[CV] END alpha=0.001, hidden_layer_sizes=(20,), learning_rate_init=0.001; total time=   2.4s\n",
      "[CV] END alpha=0.001, hidden_layer_sizes=(20,), learning_rate_init=0.001; total time=   2.1s\n",
      "[CV] END alpha=0.001, hidden_layer_sizes=(20,), learning_rate_init=0.001; total time=   2.4s\n",
      "[CV] END alpha=0.001, hidden_layer_sizes=(20,), learning_rate_init=0.001; total time=   2.4s\n",
      "[CV] END alpha=0.001, hidden_layer_sizes=(50,), learning_rate_init=0.01; total time=   1.0s\n",
      "[CV] END alpha=0.001, hidden_layer_sizes=(50,), learning_rate_init=0.001; total time=   1.9s\n",
      "[CV] END alpha=0.001, hidden_layer_sizes=(50,), learning_rate_init=0.001; total time=   1.7s\n",
      "[CV] END alpha=0.001, hidden_layer_sizes=(50,), learning_rate_init=0.01; total time=   1.0s\n",
      "[CV] END alpha=0.001, hidden_layer_sizes=(50,), learning_rate_init=0.01; total time=   1.1s\n",
      "[CV] END alpha=0.001, hidden_layer_sizes=(50,), learning_rate_init=0.001; total time=   1.7s\n",
      "[CV] END alpha=0.001, hidden_layer_sizes=(50,), learning_rate_init=0.01; total time=   0.6s\n",
      "[CV] END alpha=0.001, hidden_layer_sizes=(50,), learning_rate_init=0.001; total time=   2.3s\n",
      "[CV] END alpha=0.001, hidden_layer_sizes=(50,), learning_rate_init=0.01; total time=   0.7s\n",
      "[CV] END alpha=0.001, hidden_layer_sizes=(100,), learning_rate_init=0.01; total time=   0.5s\n",
      "[CV] END alpha=0.001, hidden_layer_sizes=(100,), learning_rate_init=0.001; total time=   1.0s\n",
      "[CV] END alpha=0.001, hidden_layer_sizes=(100,), learning_rate_init=0.001; total time=   1.1s\n",
      "[CV] END alpha=0.001, hidden_layer_sizes=(100,), learning_rate_init=0.001; total time=   1.4s\n",
      "[CV] END alpha=0.001, hidden_layer_sizes=(50,), learning_rate_init=0.001; total time=   3.3s\n",
      "[CV] END alpha=0.001, hidden_layer_sizes=(100,), learning_rate_init=0.001; total time=   1.6s\n",
      "[CV] END alpha=0.001, hidden_layer_sizes=(100,), learning_rate_init=0.01; total time=   1.4s\n",
      "[CV] END alpha=0.001, hidden_layer_sizes=(100,), learning_rate_init=0.01; total time=   0.7s\n",
      "[CV] END alpha=0.001, hidden_layer_sizes=(100,), learning_rate_init=0.001; total time=   1.8s\n",
      "[CV] END alpha=0.001, hidden_layer_sizes=(100,), learning_rate_init=0.01; total time=   1.3s\n",
      "[CV] END alpha=0.001, hidden_layer_sizes=(200,), learning_rate_init=0.001; total time=   2.1s\n",
      "[CV] END alpha=0.001, hidden_layer_sizes=(100,), learning_rate_init=0.01; total time=   2.3s\n",
      "[CV] END alpha=0.001, hidden_layer_sizes=(200,), learning_rate_init=0.01; total time=   1.2s\n",
      "[CV] END alpha=0.001, hidden_layer_sizes=(200,), learning_rate_init=0.001; total time=   2.3s\n",
      "[CV] END alpha=0.001, hidden_layer_sizes=(200,), learning_rate_init=0.01; total time=   1.9s\n",
      "[CV] END alpha=0.001, hidden_layer_sizes=(200,), learning_rate_init=0.001; total time=   2.4s\n",
      "[CV] END alpha=0.001, hidden_layer_sizes=(200,), learning_rate_init=0.001; total time=   2.8s\n",
      "[CV] END alpha=0.001, hidden_layer_sizes=(200,), learning_rate_init=0.01; total time=   1.3s\n",
      "[CV] END alpha=0.001, hidden_layer_sizes=(200,), learning_rate_init=0.01; total time=   1.5s\n",
      "[CV] END alpha=0.001, hidden_layer_sizes=(200,), learning_rate_init=0.01; total time=   2.1s\n",
      "[CV] END alpha=0.01, hidden_layer_sizes=(10,), learning_rate_init=0.001; total time=   2.3s\n",
      "[CV] END alpha=0.01, hidden_layer_sizes=(10,), learning_rate_init=0.001; total time=   2.5s\n",
      "[CV] END alpha=0.01, hidden_layer_sizes=(10,), learning_rate_init=0.001; total time=   2.5s\n",
      "[CV] END alpha=0.01, hidden_layer_sizes=(10,), learning_rate_init=0.01; total time=   1.2s\n",
      "[CV] END alpha=0.01, hidden_layer_sizes=(10,), learning_rate_init=0.01; total time=   1.1s\n",
      "[CV] END alpha=0.01, hidden_layer_sizes=(10,), learning_rate_init=0.01; total time=   0.4s\n",
      "[CV] END alpha=0.001, hidden_layer_sizes=(200,), learning_rate_init=0.001; total time=   5.3s\n",
      "[CV] END alpha=0.01, hidden_layer_sizes=(10,), learning_rate_init=0.001; total time=   2.3s\n",
      "[CV] END alpha=0.01, hidden_layer_sizes=(10,), learning_rate_init=0.01; total time=   0.7s\n",
      "[CV] END alpha=0.01, hidden_layer_sizes=(10,), learning_rate_init=0.01; total time=   0.7s\n",
      "[CV] END alpha=0.01, hidden_layer_sizes=(10,), learning_rate_init=0.001; total time=   2.9s\n",
      "[CV] END alpha=0.01, hidden_layer_sizes=(20,), learning_rate_init=0.01; total time=   0.7s\n",
      "[CV] END alpha=0.01, hidden_layer_sizes=(20,), learning_rate_init=0.01; total time=   0.6s\n",
      "[CV] END alpha=0.01, hidden_layer_sizes=(20,), learning_rate_init=0.01; total time=   0.7s\n",
      "[CV] END alpha=0.01, hidden_layer_sizes=(20,), learning_rate_init=0.01; total time=   0.8s\n",
      "[CV] END alpha=0.01, hidden_layer_sizes=(20,), learning_rate_init=0.001; total time=   2.0s\n",
      "[CV] END alpha=0.01, hidden_layer_sizes=(20,), learning_rate_init=0.01; total time=   1.4s\n",
      "[CV] END alpha=0.01, hidden_layer_sizes=(20,), learning_rate_init=0.001; total time=   2.2s\n",
      "[CV] END alpha=0.01, hidden_layer_sizes=(20,), learning_rate_init=0.001; total time=   2.8s\n",
      "[CV] END alpha=0.01, hidden_layer_sizes=(20,), learning_rate_init=0.001; total time=   3.3s\n",
      "[CV] END alpha=0.01, hidden_layer_sizes=(50,), learning_rate_init=0.001; total time=   1.6s\n",
      "[CV] END alpha=0.01, hidden_layer_sizes=(50,), learning_rate_init=0.001; total time=   1.4s\n",
      "[CV] END alpha=0.01, hidden_layer_sizes=(50,), learning_rate_init=0.001; total time=   2.3s\n",
      "[CV] END alpha=0.01, hidden_layer_sizes=(50,), learning_rate_init=0.001; total time=   2.2s\n",
      "[CV] END alpha=0.01, hidden_layer_sizes=(50,), learning_rate_init=0.01; total time=   1.1s\n",
      "[CV] END alpha=0.01, hidden_layer_sizes=(20,), learning_rate_init=0.001; total time=   3.8s\n",
      "[CV] END alpha=0.01, hidden_layer_sizes=(50,), learning_rate_init=0.01; total time=   0.9s\n",
      "[CV] END alpha=0.01, hidden_layer_sizes=(50,), learning_rate_init=0.01; total time=   0.6s\n",
      "[CV] END alpha=0.01, hidden_layer_sizes=(50,), learning_rate_init=0.01; total time=   0.8s\n",
      "[CV] END alpha=0.01, hidden_layer_sizes=(50,), learning_rate_init=0.01; total time=   1.4s\n",
      "[CV] END alpha=0.01, hidden_layer_sizes=(100,), learning_rate_init=0.001; total time=   1.1s\n",
      "[CV] END alpha=0.01, hidden_layer_sizes=(50,), learning_rate_init=0.001; total time=   3.6s\n",
      "[CV] END alpha=0.01, hidden_layer_sizes=(100,), learning_rate_init=0.001; total time=   1.4s\n",
      "[CV] END alpha=0.01, hidden_layer_sizes=(100,), learning_rate_init=0.01; total time=   0.7s\n",
      "[CV] END alpha=0.01, hidden_layer_sizes=(100,), learning_rate_init=0.001; total time=   2.0s\n",
      "[CV] END alpha=0.01, hidden_layer_sizes=(100,), learning_rate_init=0.01; total time=   1.4s\n",
      "[CV] END alpha=0.01, hidden_layer_sizes=(100,), learning_rate_init=0.01; total time=   1.0s\n",
      "[CV] END alpha=0.01, hidden_layer_sizes=(100,), learning_rate_init=0.001; total time=   2.1s\n",
      "[CV] END alpha=0.01, hidden_layer_sizes=(100,), learning_rate_init=0.01; total time=   1.3s\n",
      "[CV] END alpha=0.01, hidden_layer_sizes=(100,), learning_rate_init=0.01; total time=   1.9s\n",
      "[CV] END alpha=0.01, hidden_layer_sizes=(100,), learning_rate_init=0.001; total time=   3.5s\n",
      "[CV] END alpha=0.01, hidden_layer_sizes=(200,), learning_rate_init=0.001; total time=   1.9s\n",
      "[CV] END alpha=0.01, hidden_layer_sizes=(200,), learning_rate_init=0.001; total time=   1.7s\n",
      "[CV] END alpha=0.01, hidden_layer_sizes=(200,), learning_rate_init=0.01; total time=   1.3s\n",
      "[CV] END alpha=0.01, hidden_layer_sizes=(200,), learning_rate_init=0.001; total time=   2.0s\n",
      "[CV] END alpha=0.01, hidden_layer_sizes=(200,), learning_rate_init=0.01; total time=   1.9s\n",
      "[CV] END alpha=0.01, hidden_layer_sizes=(200,), learning_rate_init=0.001; total time=   2.3s\n",
      "[CV] END alpha=0.01, hidden_layer_sizes=(200,), learning_rate_init=0.001; total time=   2.7s\n",
      "[CV] END alpha=0.01, hidden_layer_sizes=(200,), learning_rate_init=0.01; total time=   1.3s\n",
      "[CV] END alpha=0.01, hidden_layer_sizes=(200,), learning_rate_init=0.01; total time=   1.0s\n",
      "[CV] END alpha=0.01, hidden_layer_sizes=(200,), learning_rate_init=0.01; total time=   1.7s\n",
      "Best parameters: {'alpha': 0.0001, 'hidden_layer_sizes': (200,), 'learning_rate_init': 0.001}\n",
      "Best score: 0.5671066829034054\n",
      "Final AUC score on test set: 0.5139709155661077\n"
     ]
    }
   ],
   "source": [
    "gscv = GridSearchCV(estimator=MLPClassifier(random_state=RAND_STATE), \n",
    "                    param_grid=mlp_grid, \n",
    "                    cv=5, \n",
    "                    scoring=auc_score,\n",
    "                    n_jobs=-1, \n",
    "                    verbose=2)\n",
    "\n",
    "model = gscv.fit(X_train, y_train)\n",
    "print(f'Best parameters: {model.best_params_}')\n",
    "print(f'Best score: {model.best_score_}')\n",
    "\n",
    "# Predict probabilities on the test set (for the positive class)\n",
    "y_proba = model.predict_proba(X_val)[:, 1]\n",
    "\n",
    "# Compute FPR, TPR\n",
    "fpr, tpr, thresholds = roc_curve(y_val, y_proba)\n",
    "\n",
    "# Compute AUC\n",
    "final_auc = auc(fpr, tpr)\n",
    "\n",
    "print(\"Final AUC score on val set:\", final_auc)"
   ]
  },
  {
   "cell_type": "code",
   "execution_count": 14,
   "metadata": {},
   "outputs": [
    {
     "name": "stdout",
     "output_type": "stream",
     "text": [
      "Fitting 5 folds for each of 64 candidates, totalling 320 fits\n",
      "Best parameters: {'activation': 'tanh', 'alpha': 0.0001, 'hidden_layer_sizes': (300, 25), 'learning_rate_init': 0.0005, 'solver': 'adam'}\n",
      "Best score: 0.5736804944346171\n",
      "Final AUC score on val set: 0.5131454963644457\n"
     ]
    }
   ],
   "source": [
    "layer_search_grid = {\n",
    "    'hidden_layer_sizes': [(200,), (200, 50), (300,), (300, 25)],\n",
    "    'alpha': [0.0001, 0.00005],\n",
    "    'learning_rate_init': [0.001, 0.0005],\n",
    "    'activation': ['relu', 'tanh'],\n",
    "    'solver': ['adam', 'sgd'],\n",
    "}\n",
    "gscv = GridSearchCV(estimator=MLPClassifier(random_state=RAND_STATE),\n",
    "                    param_grid=layer_search_grid,\n",
    "                    cv=5,\n",
    "                    scoring=auc_score,\n",
    "                    n_jobs=-1,\n",
    "                    verbose=1)\n",
    "model = gscv.fit(X_train, y_train)\n",
    "print(f'Best parameters: {model.best_params_}')\n",
    "print(f'Best score: {model.best_score_}')\n",
    "# Predict probabilities on the test set (for the positive class)\n",
    "y_proba = model.predict_proba(X_val)[:, 1]\n",
    "# Compute FPR, TPR\n",
    "fpr, tpr, thresholds = roc_curve(y_val, y_proba)\n",
    "# Compute AUC\n",
    "final_auc = auc(fpr, tpr)\n",
    "print(\"Final AUC score on val set:\", final_auc)"
   ]
  },
  {
   "cell_type": "code",
   "execution_count": 17,
   "metadata": {},
   "outputs": [
    {
     "name": "stdout",
     "output_type": "stream",
     "text": [
      "X_train_smote: (5356, 5)\n",
      "X_train_adasyn: (5490, 5)\n"
     ]
    }
   ],
   "source": [
    "smote = SMOTE(random_state=RAND_STATE)\n",
    "X_train_smote, y_train_smote = smote.fit_resample(X_train, y_train)\n",
    "print(f'X_train_smote: {X_train_smote.shape}')\n",
    "\n",
    "adasyn = ADASYN(random_state=RAND_STATE)\n",
    "X_train_adasyn, y_train_adasyn = adasyn.fit_resample(X_train, y_train)\n",
    "print(f'X_train_adasyn: {X_train_adasyn.shape}')"
   ]
  },
  {
   "cell_type": "code",
   "execution_count": null,
   "metadata": {},
   "outputs": [
    {
     "name": "stdout",
     "output_type": "stream",
     "text": [
      "Fitting 5 folds for each of 12 candidates, totalling 60 fits\n",
      "SMOTE\n",
      "| Best parameters: {'activation': 'tanh', 'alpha': 0.0001, 'hidden_layer_sizes': (300, 50), 'learning_rate_init': 0.0005, 'solver': 'adam'}\n",
      "| Best score: 0.5925837522354749\n",
      "| Final AUC score on val set: 0.524769995548301\n",
      "------------------------------\n",
      "Fitting 5 folds for each of 12 candidates, totalling 60 fits\n"
     ]
    },
    {
     "name": "stderr",
     "output_type": "stream",
     "text": [
      "/home/nikolas-spyropoulos/Documents/uni/7_semester/mm/mm_env/lib/python3.12/site-packages/sklearn/neural_network/_multilayer_perceptron.py:690: ConvergenceWarning: Stochastic Optimizer: Maximum iterations (200) reached and the optimization hasn't converged yet.\n",
      "  warnings.warn(\n"
     ]
    },
    {
     "name": "stdout",
     "output_type": "stream",
     "text": [
      "ADASYN\n",
      "| Best parameters: {'activation': 'tanh', 'alpha': 0.0001, 'hidden_layer_sizes': (300, 50), 'learning_rate_init': 0.0007, 'solver': 'adam'}\n",
      "| Best score: 0.5787866894464226\n",
      "| Final AUC score on val set: 0.5400986793292774\n",
      "------------------------------\n",
      "Done\n"
     ]
    }
   ],
   "source": [
    "oversample_grid = {\n",
    "    'hidden_layer_sizes': [(200,), (300, 25), (300, 50)],\n",
    "    'alpha': [0.0001, 0.0002],\n",
    "    'learning_rate_init': [0.0005, 0.0007],\n",
    "    'activation': ['tanh'],\n",
    "    'solver': ['adam']\n",
    "}\n",
    "gscv = GridSearchCV(estimator=MLPClassifier(random_state=RAND_STATE),\n",
    "                    param_grid=oversample_grid,\n",
    "                    cv=5,\n",
    "                    scoring=auc_score,\n",
    "                    n_jobs=-1,\n",
    "                    verbose=1)\n",
    "model = gscv.fit(X_train_smote, y_train_smote)\n",
    "print('SMOTE')\n",
    "print(f'| Best parameters: {model.best_params_}')\n",
    "print(f'| Best score: {model.best_score_}')\n",
    "# Predict probabilities on the test set (for the positive class)\n",
    "y_proba = model.predict_proba(X_val)[:, 1]\n",
    "# Compute FPR, TPR\n",
    "fpr, tpr, thresholds = roc_curve(y_val, y_proba)\n",
    "# Compute AUC\n",
    "final_auc = auc(fpr, tpr)\n",
    "print(\"| Final AUC score on val set:\", final_auc)\n",
    "print('-' * 30)\n",
    "\n",
    "model_ada = gscv.fit(X_train_adasyn, y_train_adasyn)\n",
    "print('ADASYN')\n",
    "print(f'| Best parameters: {model_ada.best_params_}')\n",
    "print(f'| Best score: {model_ada.best_score_}')\n",
    "# Predict probabilities on the test set (for the positive class)\n",
    "y_proba = model_ada.predict_proba(X_val)[:, 1]\n",
    "# Compute FPR, TPR\n",
    "fpr, tpr, thresholds = roc_curve(y_val, y_proba)\n",
    "# Compute AUC\n",
    "final_auc = auc(fpr, tpr)\n",
    "print(\"| Final AUC score on val set:\", final_auc)\n",
    "print('-' * 30)\n",
    "print('Done')"
   ]
  },
  {
   "cell_type": "markdown",
   "metadata": {},
   "source": [
    "Current best model:\n",
    "{\n",
    "    'hidden_layer_sizes': (300,50),\n",
    "    'alpha': 0.0001,\n",
    "    'learning_rate_init': 0.0007,\n",
    "    'solver: 'adam',\n",
    "    'activation': 'tanh'\n",
    "},\n",
    "Oversampling with ADASYN"
   ]
  },
  {
   "cell_type": "code",
   "execution_count": 20,
   "metadata": {},
   "outputs": [],
   "source": [
    "best_model = MLPClassifier(\n",
    "    hidden_layer_sizes=(300, 50),\n",
    "    alpha=0.0001,\n",
    "    learning_rate_init=0.0007,\n",
    "    activation='tanh',\n",
    "    solver='adam',\n",
    ")"
   ]
  },
  {
   "cell_type": "code",
   "execution_count": 43,
   "metadata": {},
   "outputs": [],
   "source": [
    "best_model.fit(X_train_adasyn, y_train_adasyn)\n",
    "pred = best_model.predict_proba(test_X)[:, 1]"
   ]
  },
  {
   "cell_type": "code",
   "execution_count": 45,
   "metadata": {},
   "outputs": [
    {
     "name": "stdout",
     "output_type": "stream",
     "text": [
      "pred: (3400,)\n",
      "[0.38139176 0.60302282 0.53106223 ... 0.4828223  0.45095179 0.53559621]\n"
     ]
    }
   ],
   "source": [
    "print(f'pred: {pred.shape}')\n",
    "print(pred)"
   ]
  },
  {
   "cell_type": "code",
   "execution_count": 46,
   "metadata": {},
   "outputs": [
    {
     "name": "stdout",
     "output_type": "stream",
     "text": [
      "ids: (3400,)\n",
      "['S01_Sess01_FB001' 'S01_Sess01_FB002' 'S01_Sess01_FB003' ...\n",
      " 'S25_Sess05_FB098' 'S25_Sess05_FB099' 'S25_Sess05_FB100']\n"
     ]
    }
   ],
   "source": [
    "# Construct IdFeedback column\n",
    "ids = []\n",
    "for i in range(len(test_subjects)):\n",
    "    name = f'S{test_subjects[i]}'\n",
    "    for session in range(1, 5):\n",
    "        for fid in range(1, 61):\n",
    "            ids.append(f'{name}_Sess{session:02}_FB{fid:03}')\n",
    "    for fid in range(1, 101):\n",
    "        ids.append(f'{name}_Sess05_FB{fid:03}')\n",
    "ids = np.array(ids)\n",
    "print(f'ids: {ids.shape}')\n",
    "print(ids)"
   ]
  },
  {
   "cell_type": "code",
   "execution_count": 48,
   "metadata": {},
   "outputs": [],
   "source": [
    "result = pd.DataFrame({\n",
    "    'IdFeedback': ids,\n",
    "    'Prediction': pred\n",
    "})\n",
    "result.to_csv('submissions/mlp_adasyn1.csv', sep=',', index=False)"
   ]
  }
 ],
 "metadata": {
  "kernelspec": {
   "display_name": "mm_env",
   "language": "python",
   "name": "python3"
  },
  "language_info": {
   "codemirror_mode": {
    "name": "ipython",
    "version": 3
   },
   "file_extension": ".py",
   "mimetype": "text/x-python",
   "name": "python",
   "nbconvert_exporter": "python",
   "pygments_lexer": "ipython3",
   "version": "3.12.3"
  }
 },
 "nbformat": 4,
 "nbformat_minor": 2
}
